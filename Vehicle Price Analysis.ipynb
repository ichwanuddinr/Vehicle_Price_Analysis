{
 "cells": [
  {
   "cell_type": "markdown",
   "metadata": {},
   "source": [
    "# Faktor Apakah yang Menjual Sebuah Mobil?"
   ]
  },
  {
   "cell_type": "markdown",
   "metadata": {},
   "source": [
    "# Konten <a id='back'></a>\n",
    "\n",
    "* [Pendahuluan](#intro)\n",
    "    * [1.1 Tujuan](#tujuan)\n",
    "    * [1.2 Tahapan](#tahap)\n",
    "* [Tahap 1: Pra-pemrosesan data](#pra)\n",
    "    * [2.1 Memuat data](#load_data)\n",
    "    * [2.2 Eksplorasi data](#explore)\n",
    "    * [2.3 Kesimpulan sementara](#conclusion_1)\n",
    "    * [2.4 Mengatasi nilai yang hilang](#missing_values)\n",
    "    * [2.5 Memperbaiki tipe data](#data_type)\n",
    "    * [2.6 Memperbaiki kualitas data](#data_quality)\n",
    "    * [2.7 Memeriksa data yang sudah bersih](#values_check_1)\n",
    "* [Tahap 2: Mempelajari parameter inti](#parameter)\n",
    "    * [3.1 Memeriksa outlier](#outlier_1)\n",
    "    * [3.2 Mempelajari dan menangani oulier](#outlier_2)\n",
    "    * [3.3 Mempelajari parameter inti tanpa outlier](#outlier_3)\n",
    "* [Tahap 3: Masa berlaku iklan](#ads)\n",
    "* [Tahap 4: Harga rata-rata setiap jenis kendaraan](#mean_type)\n",
    "* [Tahap 5: Faktor harga](#price) \n",
    "    * [6.1 Kendaraan tipe sedan](#sedan)\n",
    "    * [6.2 Kendaraan tipe SUV](#suv)\n",
    "* [Kesimpulan](#end)"
   ]
  },
  {
   "cell_type": "markdown",
   "metadata": {},
   "source": [
    "## Pendahuluan <a id='intro'></a>\n",
    "\n",
    "Crankshaft List ingin mengetahui faktor-faktor apa saja yang mempengaruhi harga sebuah kendaraan. Kita akan menganalisa data dengan memanfaatkan kumpulan data selama beberapa tahun terakhir dari ratusan iklan kendaraan gratis yang ditayangkan di situs web mereka setiap harinya.\n",
    "\n",
    "### Tujuan: <a id='tujuan'></a>\n",
    "\n",
    "Pempelajari tiga hal berikut:\n",
    "1. Usia suatu iklan ditayangkan.\n",
    "2. Harga rata-rata setiap jenis kendaraan.\n",
    "3. Faktor yang mempengaruhi harga suatu kendaraan.\n",
    "\n",
    "### Tahapan: <a id='tahap'></a>\n",
    "\n",
    "Tidak ada informasi tentang kualitas data, oleh karena itu kita perlu memeriksanya terlebih dahulu sebelum menganalisa datanya.\n",
    "\n",
    "Pertama,evaluasi kualitas datanya dan melihat apakah masalahnya signifikan. Kemudian kita akan mencoba memperhitungkan masalah yang lebih serius selama eksplorasi data berlangsung.\n",
    " \n",
    "Proyek ini akan terdiri dari 5 tahap:\n",
    " 1. Pra-pemprosesan data\n",
    " 2. Mempelajari parameter inti\n",
    " 3. Menganalisa masa berlaku iklan\n",
    " 4. Menganalisa harga rata-rata setiap jenis kendaraan\n",
    " 5. Menganalisa faktor harga"
   ]
  },
  {
   "cell_type": "markdown",
   "metadata": {},
   "source": [
    "## Tahap 1: Pra-pemrosesan <a id='pra'></a>"
   ]
  },
  {
   "cell_type": "markdown",
   "metadata": {},
   "source": [
    "Memuat library yang mungkin dibtuhkan:"
   ]
  },
  {
   "cell_type": "code",
   "execution_count": 1,
   "metadata": {},
   "outputs": [],
   "source": [
    "# Memuat semua library\n",
    "\n",
    "import pandas as pd\n",
    "import numpy as np\n",
    "import matplotlib.pyplot as plt\n",
    "import seaborn as sns\n",
    "\n",
    "import warnings\n",
    "warnings.filterwarnings('ignore')"
   ]
  },
  {
   "cell_type": "markdown",
   "metadata": {},
   "source": [
    "### Memuat Data <a id='load_data'></a>"
   ]
  },
  {
   "cell_type": "markdown",
   "metadata": {},
   "source": [
    "Memuat *dataset*:"
   ]
  },
  {
   "cell_type": "code",
   "execution_count": 2,
   "metadata": {},
   "outputs": [],
   "source": [
    "# Memuat file data menjadi DataFrame\n",
    "\n",
    "data = pd.read_csv('/datasets/vehicles_us.csv')"
   ]
  },
  {
   "cell_type": "markdown",
   "metadata": {},
   "source": [
    "### Eksplorasi Data Awal <a id='explore'></a>"
   ]
  },
  {
   "cell_type": "markdown",
   "metadata": {},
   "source": [
    "*Dataset* berisi kolom-kolom berikut: \n",
    "\n",
    "\n",
    "- `price`\n",
    "- `model_year`\n",
    "- `model`\n",
    "- `condition`\n",
    "- `cylinders`\n",
    "- `fuel` — gas, disel, dan lain-lain.\n",
    "- `odometer` — jarak tempuh kendaraan saat iklan ditayangkan  \n",
    "- `transmission`\n",
    "- `paint_color`\n",
    "- `is_4wd` — apakah kendaraan memiliki penggerak 4 roda (tipe Boolean)\n",
    "- `date_posted` — tanggal iklan ditayangkan \n",
    "- `days_listed` — jumlah hari iklan ditayangkan hingga dihapus \n",
    "[Pahami kolom-kolomnya, lakukan eksplorasi data agar Anda terbiasa dengan data tersebut.]"
   ]
  },
  {
   "cell_type": "code",
   "execution_count": 3,
   "metadata": {},
   "outputs": [
    {
     "name": "stdout",
     "output_type": "stream",
     "text": [
      "<class 'pandas.core.frame.DataFrame'>\n",
      "RangeIndex: 51525 entries, 0 to 51524\n",
      "Data columns (total 13 columns):\n",
      " #   Column        Non-Null Count  Dtype  \n",
      "---  ------        --------------  -----  \n",
      " 0   price         51525 non-null  int64  \n",
      " 1   model_year    47906 non-null  float64\n",
      " 2   model         51525 non-null  object \n",
      " 3   condition     51525 non-null  object \n",
      " 4   cylinders     46265 non-null  float64\n",
      " 5   fuel          51525 non-null  object \n",
      " 6   odometer      43633 non-null  float64\n",
      " 7   transmission  51525 non-null  object \n",
      " 8   type          51525 non-null  object \n",
      " 9   paint_color   42258 non-null  object \n",
      " 10  is_4wd        25572 non-null  float64\n",
      " 11  date_posted   51525 non-null  object \n",
      " 12  days_listed   51525 non-null  int64  \n",
      "dtypes: float64(4), int64(2), object(7)\n",
      "memory usage: 5.1+ MB\n"
     ]
    }
   ],
   "source": [
    "# Menampilkan informasi/rangkuman umum tentang DataFrame\n",
    "\n",
    "data.info()"
   ]
  },
  {
   "cell_type": "code",
   "execution_count": 4,
   "metadata": {},
   "outputs": [
    {
     "data": {
      "text/html": [
       "<div>\n",
       "<style scoped>\n",
       "    .dataframe tbody tr th:only-of-type {\n",
       "        vertical-align: middle;\n",
       "    }\n",
       "\n",
       "    .dataframe tbody tr th {\n",
       "        vertical-align: top;\n",
       "    }\n",
       "\n",
       "    .dataframe thead th {\n",
       "        text-align: right;\n",
       "    }\n",
       "</style>\n",
       "<table border=\"1\" class=\"dataframe\">\n",
       "  <thead>\n",
       "    <tr style=\"text-align: right;\">\n",
       "      <th></th>\n",
       "      <th>price</th>\n",
       "      <th>model_year</th>\n",
       "      <th>model</th>\n",
       "      <th>condition</th>\n",
       "      <th>cylinders</th>\n",
       "      <th>fuel</th>\n",
       "      <th>odometer</th>\n",
       "      <th>transmission</th>\n",
       "      <th>type</th>\n",
       "      <th>paint_color</th>\n",
       "      <th>is_4wd</th>\n",
       "      <th>date_posted</th>\n",
       "      <th>days_listed</th>\n",
       "    </tr>\n",
       "  </thead>\n",
       "  <tbody>\n",
       "    <tr>\n",
       "      <th>0</th>\n",
       "      <td>9400</td>\n",
       "      <td>2011.0</td>\n",
       "      <td>bmw x5</td>\n",
       "      <td>good</td>\n",
       "      <td>6.0</td>\n",
       "      <td>gas</td>\n",
       "      <td>145000.0</td>\n",
       "      <td>automatic</td>\n",
       "      <td>SUV</td>\n",
       "      <td>NaN</td>\n",
       "      <td>1.0</td>\n",
       "      <td>2018-06-23</td>\n",
       "      <td>19</td>\n",
       "    </tr>\n",
       "    <tr>\n",
       "      <th>1</th>\n",
       "      <td>25500</td>\n",
       "      <td>NaN</td>\n",
       "      <td>ford f-150</td>\n",
       "      <td>good</td>\n",
       "      <td>6.0</td>\n",
       "      <td>gas</td>\n",
       "      <td>88705.0</td>\n",
       "      <td>automatic</td>\n",
       "      <td>pickup</td>\n",
       "      <td>white</td>\n",
       "      <td>1.0</td>\n",
       "      <td>2018-10-19</td>\n",
       "      <td>50</td>\n",
       "    </tr>\n",
       "    <tr>\n",
       "      <th>2</th>\n",
       "      <td>5500</td>\n",
       "      <td>2013.0</td>\n",
       "      <td>hyundai sonata</td>\n",
       "      <td>like new</td>\n",
       "      <td>4.0</td>\n",
       "      <td>gas</td>\n",
       "      <td>110000.0</td>\n",
       "      <td>automatic</td>\n",
       "      <td>sedan</td>\n",
       "      <td>red</td>\n",
       "      <td>NaN</td>\n",
       "      <td>2019-02-07</td>\n",
       "      <td>79</td>\n",
       "    </tr>\n",
       "    <tr>\n",
       "      <th>3</th>\n",
       "      <td>1500</td>\n",
       "      <td>2003.0</td>\n",
       "      <td>ford f-150</td>\n",
       "      <td>fair</td>\n",
       "      <td>8.0</td>\n",
       "      <td>gas</td>\n",
       "      <td>NaN</td>\n",
       "      <td>automatic</td>\n",
       "      <td>pickup</td>\n",
       "      <td>NaN</td>\n",
       "      <td>NaN</td>\n",
       "      <td>2019-03-22</td>\n",
       "      <td>9</td>\n",
       "    </tr>\n",
       "    <tr>\n",
       "      <th>4</th>\n",
       "      <td>14900</td>\n",
       "      <td>2017.0</td>\n",
       "      <td>chrysler 200</td>\n",
       "      <td>excellent</td>\n",
       "      <td>4.0</td>\n",
       "      <td>gas</td>\n",
       "      <td>80903.0</td>\n",
       "      <td>automatic</td>\n",
       "      <td>sedan</td>\n",
       "      <td>black</td>\n",
       "      <td>NaN</td>\n",
       "      <td>2019-04-02</td>\n",
       "      <td>28</td>\n",
       "    </tr>\n",
       "  </tbody>\n",
       "</table>\n",
       "</div>"
      ],
      "text/plain": [
       "   price  model_year           model  condition  cylinders fuel  odometer  \\\n",
       "0   9400      2011.0          bmw x5       good        6.0  gas  145000.0   \n",
       "1  25500         NaN      ford f-150       good        6.0  gas   88705.0   \n",
       "2   5500      2013.0  hyundai sonata   like new        4.0  gas  110000.0   \n",
       "3   1500      2003.0      ford f-150       fair        8.0  gas       NaN   \n",
       "4  14900      2017.0    chrysler 200  excellent        4.0  gas   80903.0   \n",
       "\n",
       "  transmission    type paint_color  is_4wd date_posted  days_listed  \n",
       "0    automatic     SUV         NaN     1.0  2018-06-23           19  \n",
       "1    automatic  pickup       white     1.0  2018-10-19           50  \n",
       "2    automatic   sedan         red     NaN  2019-02-07           79  \n",
       "3    automatic  pickup         NaN     NaN  2019-03-22            9  \n",
       "4    automatic   sedan       black     NaN  2019-04-02           28  "
      ]
     },
     "execution_count": 4,
     "metadata": {},
     "output_type": "execute_result"
    }
   ],
   "source": [
    "# Menampilkan sampel data\n",
    "\n",
    "data.head()"
   ]
  },
  {
   "cell_type": "code",
   "execution_count": 5,
   "metadata": {
    "scrolled": true
   },
   "outputs": [
    {
     "data": {
      "text/html": [
       "<div>\n",
       "<style scoped>\n",
       "    .dataframe tbody tr th:only-of-type {\n",
       "        vertical-align: middle;\n",
       "    }\n",
       "\n",
       "    .dataframe tbody tr th {\n",
       "        vertical-align: top;\n",
       "    }\n",
       "\n",
       "    .dataframe thead th {\n",
       "        text-align: right;\n",
       "    }\n",
       "</style>\n",
       "<table border=\"1\" class=\"dataframe\">\n",
       "  <thead>\n",
       "    <tr style=\"text-align: right;\">\n",
       "      <th></th>\n",
       "      <th>price</th>\n",
       "      <th>model_year</th>\n",
       "      <th>cylinders</th>\n",
       "      <th>odometer</th>\n",
       "      <th>is_4wd</th>\n",
       "      <th>days_listed</th>\n",
       "    </tr>\n",
       "  </thead>\n",
       "  <tbody>\n",
       "    <tr>\n",
       "      <th>count</th>\n",
       "      <td>51525.000000</td>\n",
       "      <td>47906.000000</td>\n",
       "      <td>46265.000000</td>\n",
       "      <td>43633.000000</td>\n",
       "      <td>25572.0</td>\n",
       "      <td>51525.00000</td>\n",
       "    </tr>\n",
       "    <tr>\n",
       "      <th>mean</th>\n",
       "      <td>12132.464920</td>\n",
       "      <td>2009.750470</td>\n",
       "      <td>6.125235</td>\n",
       "      <td>115553.461738</td>\n",
       "      <td>1.0</td>\n",
       "      <td>39.55476</td>\n",
       "    </tr>\n",
       "    <tr>\n",
       "      <th>std</th>\n",
       "      <td>10040.803015</td>\n",
       "      <td>6.282065</td>\n",
       "      <td>1.660360</td>\n",
       "      <td>65094.611341</td>\n",
       "      <td>0.0</td>\n",
       "      <td>28.20427</td>\n",
       "    </tr>\n",
       "    <tr>\n",
       "      <th>min</th>\n",
       "      <td>1.000000</td>\n",
       "      <td>1908.000000</td>\n",
       "      <td>3.000000</td>\n",
       "      <td>0.000000</td>\n",
       "      <td>1.0</td>\n",
       "      <td>0.00000</td>\n",
       "    </tr>\n",
       "    <tr>\n",
       "      <th>25%</th>\n",
       "      <td>5000.000000</td>\n",
       "      <td>2006.000000</td>\n",
       "      <td>4.000000</td>\n",
       "      <td>70000.000000</td>\n",
       "      <td>1.0</td>\n",
       "      <td>19.00000</td>\n",
       "    </tr>\n",
       "    <tr>\n",
       "      <th>50%</th>\n",
       "      <td>9000.000000</td>\n",
       "      <td>2011.000000</td>\n",
       "      <td>6.000000</td>\n",
       "      <td>113000.000000</td>\n",
       "      <td>1.0</td>\n",
       "      <td>33.00000</td>\n",
       "    </tr>\n",
       "    <tr>\n",
       "      <th>75%</th>\n",
       "      <td>16839.000000</td>\n",
       "      <td>2014.000000</td>\n",
       "      <td>8.000000</td>\n",
       "      <td>155000.000000</td>\n",
       "      <td>1.0</td>\n",
       "      <td>53.00000</td>\n",
       "    </tr>\n",
       "    <tr>\n",
       "      <th>max</th>\n",
       "      <td>375000.000000</td>\n",
       "      <td>2019.000000</td>\n",
       "      <td>12.000000</td>\n",
       "      <td>990000.000000</td>\n",
       "      <td>1.0</td>\n",
       "      <td>271.00000</td>\n",
       "    </tr>\n",
       "  </tbody>\n",
       "</table>\n",
       "</div>"
      ],
      "text/plain": [
       "               price    model_year     cylinders       odometer   is_4wd  \\\n",
       "count   51525.000000  47906.000000  46265.000000   43633.000000  25572.0   \n",
       "mean    12132.464920   2009.750470      6.125235  115553.461738      1.0   \n",
       "std     10040.803015      6.282065      1.660360   65094.611341      0.0   \n",
       "min         1.000000   1908.000000      3.000000       0.000000      1.0   \n",
       "25%      5000.000000   2006.000000      4.000000   70000.000000      1.0   \n",
       "50%      9000.000000   2011.000000      6.000000  113000.000000      1.0   \n",
       "75%     16839.000000   2014.000000      8.000000  155000.000000      1.0   \n",
       "max    375000.000000   2019.000000     12.000000  990000.000000      1.0   \n",
       "\n",
       "       days_listed  \n",
       "count  51525.00000  \n",
       "mean      39.55476  \n",
       "std       28.20427  \n",
       "min        0.00000  \n",
       "25%       19.00000  \n",
       "50%       33.00000  \n",
       "75%       53.00000  \n",
       "max      271.00000  "
      ]
     },
     "execution_count": 5,
     "metadata": {},
     "output_type": "execute_result"
    }
   ],
   "source": [
    "data.describe()"
   ]
  },
  {
   "cell_type": "code",
   "execution_count": 6,
   "metadata": {
    "scrolled": true
   },
   "outputs": [
    {
     "data": {
      "text/plain": [
       "0"
      ]
     },
     "execution_count": 6,
     "metadata": {},
     "output_type": "execute_result"
    }
   ],
   "source": [
    "# Memeriksa apakah ada data yang terduplikasi\n",
    "\n",
    "data.duplicated().sum()"
   ]
  },
  {
   "cell_type": "markdown",
   "metadata": {},
   "source": [
    "Setelah diperhatikan, dataset memiliki beberapa masalah diantaranya sebagai berikut:\n",
    "- Nilai yang hilang.\n",
    "- Kolom dengan tipe data yang tidak sesuai.\n",
    "- Terdapat nilai yang mencurigakan yang mungkin akan mempengaruhi outlier."
   ]
  },
  {
   "cell_type": "markdown",
   "metadata": {},
   "source": [
    "Mari hitung presentase nilai yang hilang pada *dataset*:"
   ]
  },
  {
   "cell_type": "code",
   "execution_count": 7,
   "metadata": {
    "scrolled": true
   },
   "outputs": [
    {
     "data": {
      "text/plain": [
       "is_4wd          50.369723\n",
       "paint_color     17.985444\n",
       "odometer        15.316836\n",
       "cylinders       10.208637\n",
       "model_year       7.023775\n",
       "price            0.000000\n",
       "model            0.000000\n",
       "condition        0.000000\n",
       "fuel             0.000000\n",
       "transmission     0.000000\n",
       "type             0.000000\n",
       "date_posted      0.000000\n",
       "days_listed      0.000000\n",
       "dtype: float64"
      ]
     },
     "execution_count": 7,
     "metadata": {},
     "output_type": "execute_result"
    }
   ],
   "source": [
    "data.isna().sum().sort_values(ascending=False) / len(data) * 100"
   ]
  },
  {
   "cell_type": "markdown",
   "metadata": {},
   "source": [
    "Kolom `is_4wd` memiliki presentase nilai yang hilang paling besar yaitu hingga 50.4%, disusul kolom `paint_color` dengan presentase nilai yang hilang sebanyak 18%, kolom `odometer` sebesar 15.3%, kolom `cylinders` 10.2%, dan diurutan terakhir adalah kolom `model_year` dengan presentase 7%."
   ]
  },
  {
   "cell_type": "markdown",
   "metadata": {},
   "source": [
    "### Kesimpulan Sementara <a id='conclusion_1'></a>"
   ]
  },
  {
   "cell_type": "markdown",
   "metadata": {},
   "source": [
    "Meski tidak memiliki data yang terduplikasi namun terdapat cukup banyak nilai yang hilang, bahkan nilai pada kolom `is_4wd` hilang lebih dari setengahnya. Terdapat juga tipe data yang tidak sesuai, selain itu mungkin juga terdapat outlier yang disebabkan oleh nilai yang mencurigakan.\n",
    "\n",
    "Selanjutnya mari perbaiki *dataset* dimulai dari mengatasi nilai yang hilang."
   ]
  },
  {
   "cell_type": "markdown",
   "metadata": {},
   "source": [
    "### Mengatasi Nilai-Nilai yang Hilang <a id='missing_values'></a>"
   ]
  },
  {
   "cell_type": "markdown",
   "metadata": {},
   "source": [
    "Nilai yang hilang terletak pada kolom `is_4wd`, `paint_color`, `odometer`, `cylinders`, dan `model_year`. Sebelum memperbaiki nilai yang hilang di masing-masing kolom, perlu diperhatikan tipe data dari kolom tersebut dan nilai manakah yang lebih tepat antara median atau nilai rata-rata untuk dijadikan pengganti nilai yang hilang.\n",
    "\n",
    "`is_4wd` adalah kolom pertama yang akan diperbaiki nilainya."
   ]
  },
  {
   "cell_type": "markdown",
   "metadata": {},
   "source": [
    "#### Mengatasi nilai yang hilang pada kolom `is_4wd`"
   ]
  },
  {
   "cell_type": "markdown",
   "metadata": {},
   "source": [
    "Sebelum mengisi nilai yang hilang pada kolom `is_4wd`, mari periksa distribusi pada kolom `is_4wd`."
   ]
  },
  {
   "cell_type": "code",
   "execution_count": 8,
   "metadata": {
    "scrolled": false
   },
   "outputs": [
    {
     "data": {
      "text/plain": [
       "array([ 1., nan])"
      ]
     },
     "execution_count": 8,
     "metadata": {},
     "output_type": "execute_result"
    }
   ],
   "source": [
    "data['is_4wd'].unique()"
   ]
  },
  {
   "cell_type": "markdown",
   "metadata": {},
   "source": [
    "Distribusi data pada kolom `is_4wd` ternyata hanya memiliki nilai `1` yang mana seharusnya ada nilai `0` karena value di kolom `is_4wd` merupakan nilai boolean, maka nilai yang hilang bisa dipastikan merupakan nilai `0` yang mana memiliki arti `False`."
   ]
  },
  {
   "cell_type": "code",
   "execution_count": 9,
   "metadata": {},
   "outputs": [],
   "source": [
    "data['is_4wd'] = data['is_4wd'].fillna(0)"
   ]
  },
  {
   "cell_type": "markdown",
   "metadata": {},
   "source": [
    "Kolom `is_4wd` berhasil diperbaiki."
   ]
  },
  {
   "cell_type": "markdown",
   "metadata": {},
   "source": [
    "#### Mengatasi nilai yang hilang pada kolom `paint_color`\n",
    "\n",
    "Kolom `paint_color` berisikan data mengenai warna kendaraan sehingga nilai yang hilang tidak bisa digantikan dengan nilai tertentu karena kita tidak dapat mengetahui warna masing-masing kendaraan. Oleh karenanya nilai yang hilang pada kolom tersebut akan digantikan dengan nilai `'unknown'`."
   ]
  },
  {
   "cell_type": "code",
   "execution_count": 10,
   "metadata": {},
   "outputs": [],
   "source": [
    "data['paint_color'] = data['paint_color'].fillna('unknown')"
   ]
  },
  {
   "cell_type": "markdown",
   "metadata": {},
   "source": [
    "#### Mengatasi nilai yang hilang pada kolom `cylinders`"
   ]
  },
  {
   "cell_type": "markdown",
   "metadata": {},
   "source": [
    "Mari periksa nilai rata-rata dan mediannya terlebih dahulu."
   ]
  },
  {
   "cell_type": "code",
   "execution_count": 11,
   "metadata": {},
   "outputs": [
    {
     "data": {
      "text/plain": [
       "6.125235058899817"
      ]
     },
     "execution_count": 11,
     "metadata": {},
     "output_type": "execute_result"
    }
   ],
   "source": [
    "data['cylinders'].mean()"
   ]
  },
  {
   "cell_type": "code",
   "execution_count": 12,
   "metadata": {
    "scrolled": true
   },
   "outputs": [
    {
     "data": {
      "text/plain": [
       "<AxesSubplot:xlabel='cylinders'>"
      ]
     },
     "execution_count": 12,
     "metadata": {},
     "output_type": "execute_result"
    },
    {
     "data": {
      "image/png": "[encoded data removed]",
      "text/plain": [
       "<Figure size 432x288 with 1 Axes>"
      ]
     },
     "metadata": {
      "needs_background": "light"
     },
     "output_type": "display_data"
    }
   ],
   "source": [
    "sns.boxplot(data['cylinders'])"
   ]
  },
  {
   "cell_type": "markdown",
   "metadata": {},
   "source": [
    "Kolom `cylinders` memiliki nilai rata-rata **6.1** dan median **6**. Karena tipe data pada kolom ini merupakan `int64` maka kita akan menggunakan median sebagai pengganti nilai yang hilang."
   ]
  },
  {
   "cell_type": "code",
   "execution_count": 13,
   "metadata": {},
   "outputs": [],
   "source": [
    "data['cylinders'] = data['cylinders'].fillna(6)"
   ]
  },
  {
   "cell_type": "markdown",
   "metadata": {},
   "source": [
    "#### Mengatasi nilai yang hilang pada kolom `model_year`"
   ]
  },
  {
   "cell_type": "markdown",
   "metadata": {},
   "source": [
    "Dalam mengisi nilai yang hilang pada kolom ini diperlukan penulisan suatu fungsi sebagai berikut:"
   ]
  },
  {
   "cell_type": "code",
   "execution_count": 14,
   "metadata": {},
   "outputs": [],
   "source": [
    "def fill_missing_median (dataframe, agg_column, value_column):\n",
    "    grouped_values = dataframe.groupby(agg_column)[value_column].median().reset_index()\n",
    "    size = len(grouped_values)\n",
    "    for i in range(size):\n",
    "        group = grouped_values[agg_column][i]\n",
    "        value = grouped_values[value_column][i]\n",
    "        dataframe.loc[(dataframe[agg_column]==group) & (dataframe[value_column].isna()), value_column] = value\n",
    "    return dataframe"
   ]
  },
  {
   "cell_type": "markdown",
   "metadata": {},
   "source": [
    "Menerapkan fungsi dengan memasukan nilai median `model_year` berdasarkan `model`, dan menggunakannya sebagai pengganti nilai yang hilang."
   ]
  },
  {
   "cell_type": "code",
   "execution_count": 15,
   "metadata": {},
   "outputs": [
    {
     "data": {
      "text/html": [
       "<div>\n",
       "<style scoped>\n",
       "    .dataframe tbody tr th:only-of-type {\n",
       "        vertical-align: middle;\n",
       "    }\n",
       "\n",
       "    .dataframe tbody tr th {\n",
       "        vertical-align: top;\n",
       "    }\n",
       "\n",
       "    .dataframe thead th {\n",
       "        text-align: right;\n",
       "    }\n",
       "</style>\n",
       "<table border=\"1\" class=\"dataframe\">\n",
       "  <thead>\n",
       "    <tr style=\"text-align: right;\">\n",
       "      <th></th>\n",
       "      <th>price</th>\n",
       "      <th>model_year</th>\n",
       "      <th>model</th>\n",
       "      <th>condition</th>\n",
       "      <th>cylinders</th>\n",
       "      <th>fuel</th>\n",
       "      <th>odometer</th>\n",
       "      <th>transmission</th>\n",
       "      <th>type</th>\n",
       "      <th>paint_color</th>\n",
       "      <th>is_4wd</th>\n",
       "      <th>date_posted</th>\n",
       "      <th>days_listed</th>\n",
       "    </tr>\n",
       "  </thead>\n",
       "  <tbody>\n",
       "    <tr>\n",
       "      <th>0</th>\n",
       "      <td>9400</td>\n",
       "      <td>2011.0</td>\n",
       "      <td>bmw x5</td>\n",
       "      <td>good</td>\n",
       "      <td>6.0</td>\n",
       "      <td>gas</td>\n",
       "      <td>145000.0</td>\n",
       "      <td>automatic</td>\n",
       "      <td>SUV</td>\n",
       "      <td>unknown</td>\n",
       "      <td>1.0</td>\n",
       "      <td>2018-06-23</td>\n",
       "      <td>19</td>\n",
       "    </tr>\n",
       "    <tr>\n",
       "      <th>1</th>\n",
       "      <td>25500</td>\n",
       "      <td>2011.0</td>\n",
       "      <td>ford f-150</td>\n",
       "      <td>good</td>\n",
       "      <td>6.0</td>\n",
       "      <td>gas</td>\n",
       "      <td>88705.0</td>\n",
       "      <td>automatic</td>\n",
       "      <td>pickup</td>\n",
       "      <td>white</td>\n",
       "      <td>1.0</td>\n",
       "      <td>2018-10-19</td>\n",
       "      <td>50</td>\n",
       "    </tr>\n",
       "    <tr>\n",
       "      <th>2</th>\n",
       "      <td>5500</td>\n",
       "      <td>2013.0</td>\n",
       "      <td>hyundai sonata</td>\n",
       "      <td>like new</td>\n",
       "      <td>4.0</td>\n",
       "      <td>gas</td>\n",
       "      <td>110000.0</td>\n",
       "      <td>automatic</td>\n",
       "      <td>sedan</td>\n",
       "      <td>red</td>\n",
       "      <td>0.0</td>\n",
       "      <td>2019-02-07</td>\n",
       "      <td>79</td>\n",
       "    </tr>\n",
       "    <tr>\n",
       "      <th>3</th>\n",
       "      <td>1500</td>\n",
       "      <td>2003.0</td>\n",
       "      <td>ford f-150</td>\n",
       "      <td>fair</td>\n",
       "      <td>8.0</td>\n",
       "      <td>gas</td>\n",
       "      <td>NaN</td>\n",
       "      <td>automatic</td>\n",
       "      <td>pickup</td>\n",
       "      <td>unknown</td>\n",
       "      <td>0.0</td>\n",
       "      <td>2019-03-22</td>\n",
       "      <td>9</td>\n",
       "    </tr>\n",
       "    <tr>\n",
       "      <th>4</th>\n",
       "      <td>14900</td>\n",
       "      <td>2017.0</td>\n",
       "      <td>chrysler 200</td>\n",
       "      <td>excellent</td>\n",
       "      <td>4.0</td>\n",
       "      <td>gas</td>\n",
       "      <td>80903.0</td>\n",
       "      <td>automatic</td>\n",
       "      <td>sedan</td>\n",
       "      <td>black</td>\n",
       "      <td>0.0</td>\n",
       "      <td>2019-04-02</td>\n",
       "      <td>28</td>\n",
       "    </tr>\n",
       "    <tr>\n",
       "      <th>...</th>\n",
       "      <td>...</td>\n",
       "      <td>...</td>\n",
       "      <td>...</td>\n",
       "      <td>...</td>\n",
       "      <td>...</td>\n",
       "      <td>...</td>\n",
       "      <td>...</td>\n",
       "      <td>...</td>\n",
       "      <td>...</td>\n",
       "      <td>...</td>\n",
       "      <td>...</td>\n",
       "      <td>...</td>\n",
       "      <td>...</td>\n",
       "    </tr>\n",
       "    <tr>\n",
       "      <th>51520</th>\n",
       "      <td>9249</td>\n",
       "      <td>2013.0</td>\n",
       "      <td>nissan maxima</td>\n",
       "      <td>like new</td>\n",
       "      <td>6.0</td>\n",
       "      <td>gas</td>\n",
       "      <td>88136.0</td>\n",
       "      <td>automatic</td>\n",
       "      <td>sedan</td>\n",
       "      <td>black</td>\n",
       "      <td>0.0</td>\n",
       "      <td>2018-10-03</td>\n",
       "      <td>37</td>\n",
       "    </tr>\n",
       "    <tr>\n",
       "      <th>51521</th>\n",
       "      <td>2700</td>\n",
       "      <td>2002.0</td>\n",
       "      <td>honda civic</td>\n",
       "      <td>salvage</td>\n",
       "      <td>4.0</td>\n",
       "      <td>gas</td>\n",
       "      <td>181500.0</td>\n",
       "      <td>automatic</td>\n",
       "      <td>sedan</td>\n",
       "      <td>white</td>\n",
       "      <td>0.0</td>\n",
       "      <td>2018-11-14</td>\n",
       "      <td>22</td>\n",
       "    </tr>\n",
       "    <tr>\n",
       "      <th>51522</th>\n",
       "      <td>3950</td>\n",
       "      <td>2009.0</td>\n",
       "      <td>hyundai sonata</td>\n",
       "      <td>excellent</td>\n",
       "      <td>4.0</td>\n",
       "      <td>gas</td>\n",
       "      <td>128000.0</td>\n",
       "      <td>automatic</td>\n",
       "      <td>sedan</td>\n",
       "      <td>blue</td>\n",
       "      <td>0.0</td>\n",
       "      <td>2018-11-15</td>\n",
       "      <td>32</td>\n",
       "    </tr>\n",
       "    <tr>\n",
       "      <th>51523</th>\n",
       "      <td>7455</td>\n",
       "      <td>2013.0</td>\n",
       "      <td>toyota corolla</td>\n",
       "      <td>good</td>\n",
       "      <td>4.0</td>\n",
       "      <td>gas</td>\n",
       "      <td>139573.0</td>\n",
       "      <td>automatic</td>\n",
       "      <td>sedan</td>\n",
       "      <td>black</td>\n",
       "      <td>0.0</td>\n",
       "      <td>2018-07-02</td>\n",
       "      <td>71</td>\n",
       "    </tr>\n",
       "    <tr>\n",
       "      <th>51524</th>\n",
       "      <td>6300</td>\n",
       "      <td>2014.0</td>\n",
       "      <td>nissan altima</td>\n",
       "      <td>good</td>\n",
       "      <td>4.0</td>\n",
       "      <td>gas</td>\n",
       "      <td>NaN</td>\n",
       "      <td>automatic</td>\n",
       "      <td>sedan</td>\n",
       "      <td>unknown</td>\n",
       "      <td>0.0</td>\n",
       "      <td>2018-06-05</td>\n",
       "      <td>10</td>\n",
       "    </tr>\n",
       "  </tbody>\n",
       "</table>\n",
       "<p>51525 rows × 13 columns</p>\n",
       "</div>"
      ],
      "text/plain": [
       "       price  model_year           model  condition  cylinders fuel  odometer  \\\n",
       "0       9400      2011.0          bmw x5       good        6.0  gas  145000.0   \n",
       "1      25500      2011.0      ford f-150       good        6.0  gas   88705.0   \n",
       "2       5500      2013.0  hyundai sonata   like new        4.0  gas  110000.0   \n",
       "3       1500      2003.0      ford f-150       fair        8.0  gas       NaN   \n",
       "4      14900      2017.0    chrysler 200  excellent        4.0  gas   80903.0   \n",
       "...      ...         ...             ...        ...        ...  ...       ...   \n",
       "51520   9249      2013.0   nissan maxima   like new        6.0  gas   88136.0   \n",
       "51521   2700      2002.0     honda civic    salvage        4.0  gas  181500.0   \n",
       "51522   3950      2009.0  hyundai sonata  excellent        4.0  gas  128000.0   \n",
       "51523   7455      2013.0  toyota corolla       good        4.0  gas  139573.0   \n",
       "51524   6300      2014.0   nissan altima       good        4.0  gas       NaN   \n",
       "\n",
       "      transmission    type paint_color  is_4wd date_posted  days_listed  \n",
       "0        automatic     SUV     unknown     1.0  2018-06-23           19  \n",
       "1        automatic  pickup       white     1.0  2018-10-19           50  \n",
       "2        automatic   sedan         red     0.0  2019-02-07           79  \n",
       "3        automatic  pickup     unknown     0.0  2019-03-22            9  \n",
       "4        automatic   sedan       black     0.0  2019-04-02           28  \n",
       "...            ...     ...         ...     ...         ...          ...  \n",
       "51520    automatic   sedan       black     0.0  2018-10-03           37  \n",
       "51521    automatic   sedan       white     0.0  2018-11-14           22  \n",
       "51522    automatic   sedan        blue     0.0  2018-11-15           32  \n",
       "51523    automatic   sedan       black     0.0  2018-07-02           71  \n",
       "51524    automatic   sedan     unknown     0.0  2018-06-05           10  \n",
       "\n",
       "[51525 rows x 13 columns]"
      ]
     },
     "execution_count": 15,
     "metadata": {},
     "output_type": "execute_result"
    }
   ],
   "source": [
    "fill_missing_median (data, 'model', 'model_year')"
   ]
  },
  {
   "cell_type": "markdown",
   "metadata": {},
   "source": [
    "#### Mengatasi nilai yang hilang pada kolom `odometer`"
   ]
  },
  {
   "cell_type": "code",
   "execution_count": 16,
   "metadata": {
    "scrolled": true
   },
   "outputs": [
    {
     "data": {
      "text/plain": [
       "115553.4617376756"
      ]
     },
     "execution_count": 16,
     "metadata": {},
     "output_type": "execute_result"
    }
   ],
   "source": [
    "data['odometer'].mean()"
   ]
  },
  {
   "cell_type": "markdown",
   "metadata": {},
   "source": [
    "Untuk mengisi nilai yang hilang pada kolom ini akan digunakan fungsi yang sebeumnya teah dibuat, namun nilai yang hilang didapatkan dengan memasukan nilai median `odometer` berdasarkan `condition`."
   ]
  },
  {
   "cell_type": "code",
   "execution_count": 17,
   "metadata": {},
   "outputs": [
    {
     "data": {
      "text/html": [
       "<div>\n",
       "<style scoped>\n",
       "    .dataframe tbody tr th:only-of-type {\n",
       "        vertical-align: middle;\n",
       "    }\n",
       "\n",
       "    .dataframe tbody tr th {\n",
       "        vertical-align: top;\n",
       "    }\n",
       "\n",
       "    .dataframe thead th {\n",
       "        text-align: right;\n",
       "    }\n",
       "</style>\n",
       "<table border=\"1\" class=\"dataframe\">\n",
       "  <thead>\n",
       "    <tr style=\"text-align: right;\">\n",
       "      <th></th>\n",
       "      <th>price</th>\n",
       "      <th>model_year</th>\n",
       "      <th>model</th>\n",
       "      <th>condition</th>\n",
       "      <th>cylinders</th>\n",
       "      <th>fuel</th>\n",
       "      <th>odometer</th>\n",
       "      <th>transmission</th>\n",
       "      <th>type</th>\n",
       "      <th>paint_color</th>\n",
       "      <th>is_4wd</th>\n",
       "      <th>date_posted</th>\n",
       "      <th>days_listed</th>\n",
       "    </tr>\n",
       "  </thead>\n",
       "  <tbody>\n",
       "    <tr>\n",
       "      <th>0</th>\n",
       "      <td>9400</td>\n",
       "      <td>2011.0</td>\n",
       "      <td>bmw x5</td>\n",
       "      <td>good</td>\n",
       "      <td>6.0</td>\n",
       "      <td>gas</td>\n",
       "      <td>145000.0</td>\n",
       "      <td>automatic</td>\n",
       "      <td>SUV</td>\n",
       "      <td>unknown</td>\n",
       "      <td>1.0</td>\n",
       "      <td>2018-06-23</td>\n",
       "      <td>19</td>\n",
       "    </tr>\n",
       "    <tr>\n",
       "      <th>1</th>\n",
       "      <td>25500</td>\n",
       "      <td>2011.0</td>\n",
       "      <td>ford f-150</td>\n",
       "      <td>good</td>\n",
       "      <td>6.0</td>\n",
       "      <td>gas</td>\n",
       "      <td>88705.0</td>\n",
       "      <td>automatic</td>\n",
       "      <td>pickup</td>\n",
       "      <td>white</td>\n",
       "      <td>1.0</td>\n",
       "      <td>2018-10-19</td>\n",
       "      <td>50</td>\n",
       "    </tr>\n",
       "    <tr>\n",
       "      <th>2</th>\n",
       "      <td>5500</td>\n",
       "      <td>2013.0</td>\n",
       "      <td>hyundai sonata</td>\n",
       "      <td>like new</td>\n",
       "      <td>4.0</td>\n",
       "      <td>gas</td>\n",
       "      <td>110000.0</td>\n",
       "      <td>automatic</td>\n",
       "      <td>sedan</td>\n",
       "      <td>red</td>\n",
       "      <td>0.0</td>\n",
       "      <td>2019-02-07</td>\n",
       "      <td>79</td>\n",
       "    </tr>\n",
       "    <tr>\n",
       "      <th>3</th>\n",
       "      <td>1500</td>\n",
       "      <td>2003.0</td>\n",
       "      <td>ford f-150</td>\n",
       "      <td>fair</td>\n",
       "      <td>8.0</td>\n",
       "      <td>gas</td>\n",
       "      <td>181613.0</td>\n",
       "      <td>automatic</td>\n",
       "      <td>pickup</td>\n",
       "      <td>unknown</td>\n",
       "      <td>0.0</td>\n",
       "      <td>2019-03-22</td>\n",
       "      <td>9</td>\n",
       "    </tr>\n",
       "    <tr>\n",
       "      <th>4</th>\n",
       "      <td>14900</td>\n",
       "      <td>2017.0</td>\n",
       "      <td>chrysler 200</td>\n",
       "      <td>excellent</td>\n",
       "      <td>4.0</td>\n",
       "      <td>gas</td>\n",
       "      <td>80903.0</td>\n",
       "      <td>automatic</td>\n",
       "      <td>sedan</td>\n",
       "      <td>black</td>\n",
       "      <td>0.0</td>\n",
       "      <td>2019-04-02</td>\n",
       "      <td>28</td>\n",
       "    </tr>\n",
       "    <tr>\n",
       "      <th>...</th>\n",
       "      <td>...</td>\n",
       "      <td>...</td>\n",
       "      <td>...</td>\n",
       "      <td>...</td>\n",
       "      <td>...</td>\n",
       "      <td>...</td>\n",
       "      <td>...</td>\n",
       "      <td>...</td>\n",
       "      <td>...</td>\n",
       "      <td>...</td>\n",
       "      <td>...</td>\n",
       "      <td>...</td>\n",
       "      <td>...</td>\n",
       "    </tr>\n",
       "    <tr>\n",
       "      <th>51520</th>\n",
       "      <td>9249</td>\n",
       "      <td>2013.0</td>\n",
       "      <td>nissan maxima</td>\n",
       "      <td>like new</td>\n",
       "      <td>6.0</td>\n",
       "      <td>gas</td>\n",
       "      <td>88136.0</td>\n",
       "      <td>automatic</td>\n",
       "      <td>sedan</td>\n",
       "      <td>black</td>\n",
       "      <td>0.0</td>\n",
       "      <td>2018-10-03</td>\n",
       "      <td>37</td>\n",
       "    </tr>\n",
       "    <tr>\n",
       "      <th>51521</th>\n",
       "      <td>2700</td>\n",
       "      <td>2002.0</td>\n",
       "      <td>honda civic</td>\n",
       "      <td>salvage</td>\n",
       "      <td>4.0</td>\n",
       "      <td>gas</td>\n",
       "      <td>181500.0</td>\n",
       "      <td>automatic</td>\n",
       "      <td>sedan</td>\n",
       "      <td>white</td>\n",
       "      <td>0.0</td>\n",
       "      <td>2018-11-14</td>\n",
       "      <td>22</td>\n",
       "    </tr>\n",
       "    <tr>\n",
       "      <th>51522</th>\n",
       "      <td>3950</td>\n",
       "      <td>2009.0</td>\n",
       "      <td>hyundai sonata</td>\n",
       "      <td>excellent</td>\n",
       "      <td>4.0</td>\n",
       "      <td>gas</td>\n",
       "      <td>128000.0</td>\n",
       "      <td>automatic</td>\n",
       "      <td>sedan</td>\n",
       "      <td>blue</td>\n",
       "      <td>0.0</td>\n",
       "      <td>2018-11-15</td>\n",
       "      <td>32</td>\n",
       "    </tr>\n",
       "    <tr>\n",
       "      <th>51523</th>\n",
       "      <td>7455</td>\n",
       "      <td>2013.0</td>\n",
       "      <td>toyota corolla</td>\n",
       "      <td>good</td>\n",
       "      <td>4.0</td>\n",
       "      <td>gas</td>\n",
       "      <td>139573.0</td>\n",
       "      <td>automatic</td>\n",
       "      <td>sedan</td>\n",
       "      <td>black</td>\n",
       "      <td>0.0</td>\n",
       "      <td>2018-07-02</td>\n",
       "      <td>71</td>\n",
       "    </tr>\n",
       "    <tr>\n",
       "      <th>51524</th>\n",
       "      <td>6300</td>\n",
       "      <td>2014.0</td>\n",
       "      <td>nissan altima</td>\n",
       "      <td>good</td>\n",
       "      <td>4.0</td>\n",
       "      <td>gas</td>\n",
       "      <td>129000.0</td>\n",
       "      <td>automatic</td>\n",
       "      <td>sedan</td>\n",
       "      <td>unknown</td>\n",
       "      <td>0.0</td>\n",
       "      <td>2018-06-05</td>\n",
       "      <td>10</td>\n",
       "    </tr>\n",
       "  </tbody>\n",
       "</table>\n",
       "<p>51525 rows × 13 columns</p>\n",
       "</div>"
      ],
      "text/plain": [
       "       price  model_year           model  condition  cylinders fuel  odometer  \\\n",
       "0       9400      2011.0          bmw x5       good        6.0  gas  145000.0   \n",
       "1      25500      2011.0      ford f-150       good        6.0  gas   88705.0   \n",
       "2       5500      2013.0  hyundai sonata   like new        4.0  gas  110000.0   \n",
       "3       1500      2003.0      ford f-150       fair        8.0  gas  181613.0   \n",
       "4      14900      2017.0    chrysler 200  excellent        4.0  gas   80903.0   \n",
       "...      ...         ...             ...        ...        ...  ...       ...   \n",
       "51520   9249      2013.0   nissan maxima   like new        6.0  gas   88136.0   \n",
       "51521   2700      2002.0     honda civic    salvage        4.0  gas  181500.0   \n",
       "51522   3950      2009.0  hyundai sonata  excellent        4.0  gas  128000.0   \n",
       "51523   7455      2013.0  toyota corolla       good        4.0  gas  139573.0   \n",
       "51524   6300      2014.0   nissan altima       good        4.0  gas  129000.0   \n",
       "\n",
       "      transmission    type paint_color  is_4wd date_posted  days_listed  \n",
       "0        automatic     SUV     unknown     1.0  2018-06-23           19  \n",
       "1        automatic  pickup       white     1.0  2018-10-19           50  \n",
       "2        automatic   sedan         red     0.0  2019-02-07           79  \n",
       "3        automatic  pickup     unknown     0.0  2019-03-22            9  \n",
       "4        automatic   sedan       black     0.0  2019-04-02           28  \n",
       "...            ...     ...         ...     ...         ...          ...  \n",
       "51520    automatic   sedan       black     0.0  2018-10-03           37  \n",
       "51521    automatic   sedan       white     0.0  2018-11-14           22  \n",
       "51522    automatic   sedan        blue     0.0  2018-11-15           32  \n",
       "51523    automatic   sedan       black     0.0  2018-07-02           71  \n",
       "51524    automatic   sedan     unknown     0.0  2018-06-05           10  \n",
       "\n",
       "[51525 rows x 13 columns]"
      ]
     },
     "execution_count": 17,
     "metadata": {},
     "output_type": "execute_result"
    }
   ],
   "source": [
    "fill_missing_median (data, 'condition', 'odometer')"
   ]
  },
  {
   "cell_type": "markdown",
   "metadata": {},
   "source": [
    "#### Memeriksa apakah masih ada nilai yang hilang "
   ]
  },
  {
   "cell_type": "code",
   "execution_count": 18,
   "metadata": {
    "scrolled": false
   },
   "outputs": [
    {
     "data": {
      "text/plain": [
       "price           0\n",
       "model_year      0\n",
       "model           0\n",
       "condition       0\n",
       "cylinders       0\n",
       "fuel            0\n",
       "odometer        0\n",
       "transmission    0\n",
       "type            0\n",
       "paint_color     0\n",
       "is_4wd          0\n",
       "date_posted     0\n",
       "days_listed     0\n",
       "dtype: int64"
      ]
     },
     "execution_count": 18,
     "metadata": {},
     "output_type": "execute_result"
    }
   ],
   "source": [
    "data.isna().sum().sort_values()"
   ]
  },
  {
   "cell_type": "markdown",
   "metadata": {},
   "source": [
    "Dengan ini nilai yang hilang telah diperbaiki"
   ]
  },
  {
   "cell_type": "markdown",
   "metadata": {},
   "source": [
    "### Memperbaiki Tipe Data <a id='data_type'></a>"
   ]
  },
  {
   "cell_type": "markdown",
   "metadata": {},
   "source": [
    "Karena nilai yang hilang telah diperbaiki, maka tipe data yang belum sesuai dapat diperbaiki.\n",
    "\n",
    "Mari perbaiki tipe datanya:"
   ]
  },
  {
   "cell_type": "markdown",
   "metadata": {},
   "source": [
    "**Memperbaiki tipe data pada kolom `date_posted`**"
   ]
  },
  {
   "cell_type": "code",
   "execution_count": 19,
   "metadata": {},
   "outputs": [],
   "source": [
    "data['date_posted'] = pd.to_datetime(data['date_posted'])"
   ]
  },
  {
   "cell_type": "markdown",
   "metadata": {},
   "source": [
    "**Memperbaiki tipe data pada kolom `model_year`**"
   ]
  },
  {
   "cell_type": "code",
   "execution_count": 20,
   "metadata": {},
   "outputs": [],
   "source": [
    "data['model_year'] = data['model_year'].astype('int')"
   ]
  },
  {
   "cell_type": "markdown",
   "metadata": {},
   "source": [
    "**Memperbaiki tipe data pada kolom `cylinders`**"
   ]
  },
  {
   "cell_type": "code",
   "execution_count": 21,
   "metadata": {},
   "outputs": [],
   "source": [
    "data['cylinders'] = data['cylinders'].astype('int')"
   ]
  },
  {
   "cell_type": "markdown",
   "metadata": {},
   "source": [
    "**Memperbaiki tipe data pada kolom `is_4wd`**"
   ]
  },
  {
   "cell_type": "code",
   "execution_count": 22,
   "metadata": {},
   "outputs": [],
   "source": [
    "data['is_4wd'] = data['is_4wd'].astype('bool')"
   ]
  },
  {
   "cell_type": "markdown",
   "metadata": {},
   "source": [
    "**Memeriksa hasilnya**"
   ]
  },
  {
   "cell_type": "code",
   "execution_count": 23,
   "metadata": {
    "scrolled": true
   },
   "outputs": [
    {
     "name": "stdout",
     "output_type": "stream",
     "text": [
      "<class 'pandas.core.frame.DataFrame'>\n",
      "RangeIndex: 51525 entries, 0 to 51524\n",
      "Data columns (total 13 columns):\n",
      " #   Column        Non-Null Count  Dtype         \n",
      "---  ------        --------------  -----         \n",
      " 0   price         51525 non-null  int64         \n",
      " 1   model_year    51525 non-null  int64         \n",
      " 2   model         51525 non-null  object        \n",
      " 3   condition     51525 non-null  object        \n",
      " 4   cylinders     51525 non-null  int64         \n",
      " 5   fuel          51525 non-null  object        \n",
      " 6   odometer      51525 non-null  float64       \n",
      " 7   transmission  51525 non-null  object        \n",
      " 8   type          51525 non-null  object        \n",
      " 9   paint_color   51525 non-null  object        \n",
      " 10  is_4wd        51525 non-null  bool          \n",
      " 11  date_posted   51525 non-null  datetime64[ns]\n",
      " 12  days_listed   51525 non-null  int64         \n",
      "dtypes: bool(1), datetime64[ns](1), float64(1), int64(4), object(6)\n",
      "memory usage: 4.8+ MB\n"
     ]
    }
   ],
   "source": [
    "data.info()"
   ]
  },
  {
   "cell_type": "code",
   "execution_count": 24,
   "metadata": {
    "scrolled": true
   },
   "outputs": [
    {
     "data": {
      "text/html": [
       "<div>\n",
       "<style scoped>\n",
       "    .dataframe tbody tr th:only-of-type {\n",
       "        vertical-align: middle;\n",
       "    }\n",
       "\n",
       "    .dataframe tbody tr th {\n",
       "        vertical-align: top;\n",
       "    }\n",
       "\n",
       "    .dataframe thead th {\n",
       "        text-align: right;\n",
       "    }\n",
       "</style>\n",
       "<table border=\"1\" class=\"dataframe\">\n",
       "  <thead>\n",
       "    <tr style=\"text-align: right;\">\n",
       "      <th></th>\n",
       "      <th>price</th>\n",
       "      <th>model_year</th>\n",
       "      <th>model</th>\n",
       "      <th>condition</th>\n",
       "      <th>cylinders</th>\n",
       "      <th>fuel</th>\n",
       "      <th>odometer</th>\n",
       "      <th>transmission</th>\n",
       "      <th>type</th>\n",
       "      <th>paint_color</th>\n",
       "      <th>is_4wd</th>\n",
       "      <th>date_posted</th>\n",
       "      <th>days_listed</th>\n",
       "    </tr>\n",
       "  </thead>\n",
       "  <tbody>\n",
       "    <tr>\n",
       "      <th>0</th>\n",
       "      <td>9400</td>\n",
       "      <td>2011</td>\n",
       "      <td>bmw x5</td>\n",
       "      <td>good</td>\n",
       "      <td>6</td>\n",
       "      <td>gas</td>\n",
       "      <td>145000.0</td>\n",
       "      <td>automatic</td>\n",
       "      <td>SUV</td>\n",
       "      <td>unknown</td>\n",
       "      <td>True</td>\n",
       "      <td>2018-06-23</td>\n",
       "      <td>19</td>\n",
       "    </tr>\n",
       "    <tr>\n",
       "      <th>1</th>\n",
       "      <td>25500</td>\n",
       "      <td>2011</td>\n",
       "      <td>ford f-150</td>\n",
       "      <td>good</td>\n",
       "      <td>6</td>\n",
       "      <td>gas</td>\n",
       "      <td>88705.0</td>\n",
       "      <td>automatic</td>\n",
       "      <td>pickup</td>\n",
       "      <td>white</td>\n",
       "      <td>True</td>\n",
       "      <td>2018-10-19</td>\n",
       "      <td>50</td>\n",
       "    </tr>\n",
       "    <tr>\n",
       "      <th>2</th>\n",
       "      <td>5500</td>\n",
       "      <td>2013</td>\n",
       "      <td>hyundai sonata</td>\n",
       "      <td>like new</td>\n",
       "      <td>4</td>\n",
       "      <td>gas</td>\n",
       "      <td>110000.0</td>\n",
       "      <td>automatic</td>\n",
       "      <td>sedan</td>\n",
       "      <td>red</td>\n",
       "      <td>False</td>\n",
       "      <td>2019-02-07</td>\n",
       "      <td>79</td>\n",
       "    </tr>\n",
       "    <tr>\n",
       "      <th>3</th>\n",
       "      <td>1500</td>\n",
       "      <td>2003</td>\n",
       "      <td>ford f-150</td>\n",
       "      <td>fair</td>\n",
       "      <td>8</td>\n",
       "      <td>gas</td>\n",
       "      <td>181613.0</td>\n",
       "      <td>automatic</td>\n",
       "      <td>pickup</td>\n",
       "      <td>unknown</td>\n",
       "      <td>False</td>\n",
       "      <td>2019-03-22</td>\n",
       "      <td>9</td>\n",
       "    </tr>\n",
       "    <tr>\n",
       "      <th>4</th>\n",
       "      <td>14900</td>\n",
       "      <td>2017</td>\n",
       "      <td>chrysler 200</td>\n",
       "      <td>excellent</td>\n",
       "      <td>4</td>\n",
       "      <td>gas</td>\n",
       "      <td>80903.0</td>\n",
       "      <td>automatic</td>\n",
       "      <td>sedan</td>\n",
       "      <td>black</td>\n",
       "      <td>False</td>\n",
       "      <td>2019-04-02</td>\n",
       "      <td>28</td>\n",
       "    </tr>\n",
       "  </tbody>\n",
       "</table>\n",
       "</div>"
      ],
      "text/plain": [
       "   price  model_year           model  condition  cylinders fuel  odometer  \\\n",
       "0   9400        2011          bmw x5       good          6  gas  145000.0   \n",
       "1  25500        2011      ford f-150       good          6  gas   88705.0   \n",
       "2   5500        2013  hyundai sonata   like new          4  gas  110000.0   \n",
       "3   1500        2003      ford f-150       fair          8  gas  181613.0   \n",
       "4  14900        2017    chrysler 200  excellent          4  gas   80903.0   \n",
       "\n",
       "  transmission    type paint_color  is_4wd date_posted  days_listed  \n",
       "0    automatic     SUV     unknown    True  2018-06-23           19  \n",
       "1    automatic  pickup       white    True  2018-10-19           50  \n",
       "2    automatic   sedan         red   False  2019-02-07           79  \n",
       "3    automatic  pickup     unknown   False  2019-03-22            9  \n",
       "4    automatic   sedan       black   False  2019-04-02           28  "
      ]
     },
     "execution_count": 24,
     "metadata": {},
     "output_type": "execute_result"
    }
   ],
   "source": [
    "data.head()"
   ]
  },
  {
   "cell_type": "markdown",
   "metadata": {},
   "source": [
    "Dengan ini tipe data telah diperbaiki sebagaimana mestinya."
   ]
  },
  {
   "cell_type": "markdown",
   "metadata": {},
   "source": [
    "### Memperbaiki Kualitas Data <a id='data_quality'></a>"
   ]
  },
  {
   "cell_type": "markdown",
   "metadata": {},
   "source": [
    "Selanjutnya memperbaiki kualitas data, untuk mempermudah proses analisis mari buat beberapa kolom tambahan sebagai berikut:"
   ]
  },
  {
   "cell_type": "markdown",
   "metadata": {},
   "source": [
    "**Menambahkan nilai waktu dan tanggal pada saat iklan ditayangkan**"
   ]
  },
  {
   "cell_type": "code",
   "execution_count": 25,
   "metadata": {},
   "outputs": [],
   "source": [
    "# Menambahkan nilai tahun pada saat iklan ditayangkan \n",
    "data['year_posted'] = data['date_posted'].dt.year\n",
    "\n",
    "# Menambahkan nilai bulan pada saat iklan ditayangkan \n",
    "data['month_posted'] = data['date_posted'].dt.month\n",
    "\n",
    "# Menambahkan nilai hari pada saat iklan ditayangkan \n",
    "data['day_posted'] = data['date_posted'].dt.day_name()"
   ]
  },
  {
   "cell_type": "markdown",
   "metadata": {},
   "source": [
    "**Membuat kolom usia kendaraan**"
   ]
  },
  {
   "cell_type": "code",
   "execution_count": 26,
   "metadata": {},
   "outputs": [],
   "source": [
    "# Menambahkan usia kendaraan saat iklan ditayangkan\n",
    "data['car_age'] = data['year_posted'] - data['model_year']"
   ]
  },
  {
   "cell_type": "code",
   "execution_count": 91,
   "metadata": {
    "scrolled": false
   },
   "outputs": [
    {
     "data": {
      "text/plain": [
       "array([2018, 2019])"
      ]
     },
     "execution_count": 91,
     "metadata": {},
     "output_type": "execute_result"
    }
   ],
   "source": [
    "data.year_posted.unique()"
   ]
  },
  {
   "cell_type": "code",
   "execution_count": 92,
   "metadata": {
    "scrolled": true
   },
   "outputs": [
    {
     "data": {
      "text/plain": [
       "array(['Saturday', 'Friday', 'Thursday', 'Tuesday', 'Wednesday', 'Monday',\n",
       "       'Sunday'], dtype=object)"
      ]
     },
     "execution_count": 92,
     "metadata": {},
     "output_type": "execute_result"
    }
   ],
   "source": [
    "data.day_posted.unique()"
   ]
  },
  {
   "cell_type": "code",
   "execution_count": 90,
   "metadata": {
    "scrolled": true
   },
   "outputs": [
    {
     "data": {
      "text/plain": [
       "array([2011, 2013, 2003, 2017, 2014, 2015, 2012, 2008, 2018, 2009, 2010,\n",
       "       2007, 2004, 2005, 2001, 2006, 1966, 1994, 2019, 2000, 2016, 1993,\n",
       "       1999, 1997, 2002, 1981, 1995, 1996, 1975, 1998, 1985, 1977, 1987,\n",
       "       1974, 1990, 1992, 1991, 1972, 1967, 1988, 1969, 1989, 1978, 1965,\n",
       "       1979, 1968, 1986, 1980, 1964, 1963, 1984, 1982, 1973, 1970, 1955,\n",
       "       1971, 1976, 1983, 1954, 1962, 1948, 1960, 1908, 1961, 1936, 1949,\n",
       "       1958, 1929])"
      ]
     },
     "execution_count": 90,
     "metadata": {},
     "output_type": "execute_result"
    }
   ],
   "source": [
    "data.model_year.unique()"
   ]
  },
  {
   "cell_type": "code",
   "execution_count": 89,
   "metadata": {},
   "outputs": [
    {
     "data": {
      "text/plain": [
       "array([  7,   6,  16,   2,   4,   3,  11,   1,  10,   5,   8,   0,   9,\n",
       "        15,  14,  13,  17,  12,  53,  24,  18,  19,  26,  22,  38,  20,\n",
       "        23,  44,  21,  25,  33,  42,  31,  43,  29,  28,  46,  52,  49,\n",
       "        30,  40,  54,  39,  50,  27,  32,  55,  37,  56,  34,  45,  41,\n",
       "        51,  63,  47,  48,  36,  35,  65,  57,  71,  58,  59, 110,  82,\n",
       "        69,  60,  89])"
      ]
     },
     "execution_count": 89,
     "metadata": {},
     "output_type": "execute_result"
    }
   ],
   "source": [
    "data.car_age.unique()"
   ]
  },
  {
   "cell_type": "code",
   "execution_count": 102,
   "metadata": {
    "scrolled": true
   },
   "outputs": [
    {
     "data": {
      "text/plain": [
       "dtype('float64')"
      ]
     },
     "execution_count": 102,
     "metadata": {},
     "output_type": "execute_result"
    }
   ],
   "source": [
    "data.odometer_per_year.dtype"
   ]
  },
  {
   "cell_type": "markdown",
   "metadata": {},
   "source": [
    "**Membuat kolom yang berisi jarak tempuh rata-rata kendaraan per tahun**"
   ]
  },
  {
   "cell_type": "code",
   "execution_count": 101,
   "metadata": {},
   "outputs": [],
   "source": [
    "# Menambahkan jarak tempuh rata-rata kendaraan per tahun \n",
    "data['odometer_per_year'] = data['odometer'] / data['car_age']\n",
    "data['odometer_per_year'] = data['odometer_per_year'].round(2)"
   ]
  },
  {
   "cell_type": "markdown",
   "metadata": {},
   "source": [
    "**Membuat kolom `condition` baru yang dapat diolah dengan mudah**"
   ]
  },
  {
   "cell_type": "markdown",
   "metadata": {},
   "source": [
    "Untuk mempermudah proses analisis, kolom `condition` perlu dibuatkan nilai pengganti yang berupa skala. Disini kita akan menggantinya dengan skala 0 hingga 5, dimana setiap angka secara berurutan mewakili `'salvage'`, `'fair'`, `'good'`, `'excellent'`, `'like new'`, dan `'new'`."
   ]
  },
  {
   "cell_type": "code",
   "execution_count": 28,
   "metadata": {},
   "outputs": [],
   "source": [
    "# Membuat fungsi yang akan merubah kolom `condition` menjadi skala angka 0-5\n",
    "\n",
    "def condition_numeric(condition):\n",
    "    if condition == 'new':\n",
    "        return 5\n",
    "    elif condition == 'like new':\n",
    "        return 4\n",
    "    elif condition == 'excellent':\n",
    "        return 3\n",
    "    elif condition == 'good':\n",
    "        return 2\n",
    "    elif condition == 'fair':\n",
    "        return 1\n",
    "    else: \n",
    "        return 0 "
   ]
  },
  {
   "cell_type": "code",
   "execution_count": 29,
   "metadata": {},
   "outputs": [],
   "source": [
    "data['condition_numeric'] = data['condition'].apply(condition_numeric)"
   ]
  },
  {
   "cell_type": "markdown",
   "metadata": {},
   "source": [
    "Kolom baru telah dibuat, dengan ini proses analisis menjadi lebih mudah."
   ]
  },
  {
   "cell_type": "markdown",
   "metadata": {},
   "source": [
    "### Memeriksa Data yang Sudah Bersih <a id='values_check_1'></a>"
   ]
  },
  {
   "cell_type": "markdown",
   "metadata": {},
   "source": [
    "Data sudah siap dianalisis, namun sebelumnya mari kita lihat sekali lagi info datanya."
   ]
  },
  {
   "cell_type": "code",
   "execution_count": 30,
   "metadata": {
    "scrolled": false
   },
   "outputs": [
    {
     "name": "stdout",
     "output_type": "stream",
     "text": [
      "<class 'pandas.core.frame.DataFrame'>\n",
      "RangeIndex: 51525 entries, 0 to 51524\n",
      "Data columns (total 19 columns):\n",
      " #   Column             Non-Null Count  Dtype         \n",
      "---  ------             --------------  -----         \n",
      " 0   price              51525 non-null  int64         \n",
      " 1   model_year         51525 non-null  int64         \n",
      " 2   model              51525 non-null  object        \n",
      " 3   condition          51525 non-null  object        \n",
      " 4   cylinders          51525 non-null  int64         \n",
      " 5   fuel               51525 non-null  object        \n",
      " 6   odometer           51525 non-null  float64       \n",
      " 7   transmission       51525 non-null  object        \n",
      " 8   type               51525 non-null  object        \n",
      " 9   paint_color        51525 non-null  object        \n",
      " 10  is_4wd             51525 non-null  bool          \n",
      " 11  date_posted        51525 non-null  datetime64[ns]\n",
      " 12  days_listed        51525 non-null  int64         \n",
      " 13  year_posted        51525 non-null  int64         \n",
      " 14  month_posted       51525 non-null  int64         \n",
      " 15  day_posted         51525 non-null  object        \n",
      " 16  car_age            51525 non-null  int64         \n",
      " 17  odometer_per_year  51523 non-null  float64       \n",
      " 18  condition_numeric  51525 non-null  int64         \n",
      "dtypes: bool(1), datetime64[ns](1), float64(2), int64(8), object(7)\n",
      "memory usage: 7.1+ MB\n"
     ]
    }
   ],
   "source": [
    "# Menampilkan informasi/rangkuman umum tentang DataFrame\n",
    "\n",
    "data.info()"
   ]
  },
  {
   "cell_type": "code",
   "execution_count": 31,
   "metadata": {
    "scrolled": true
   },
   "outputs": [
    {
     "data": {
      "text/html": [
       "<div>\n",
       "<style scoped>\n",
       "    .dataframe tbody tr th:only-of-type {\n",
       "        vertical-align: middle;\n",
       "    }\n",
       "\n",
       "    .dataframe tbody tr th {\n",
       "        vertical-align: top;\n",
       "    }\n",
       "\n",
       "    .dataframe thead th {\n",
       "        text-align: right;\n",
       "    }\n",
       "</style>\n",
       "<table border=\"1\" class=\"dataframe\">\n",
       "  <thead>\n",
       "    <tr style=\"text-align: right;\">\n",
       "      <th></th>\n",
       "      <th>price</th>\n",
       "      <th>model_year</th>\n",
       "      <th>model</th>\n",
       "      <th>condition</th>\n",
       "      <th>cylinders</th>\n",
       "      <th>fuel</th>\n",
       "      <th>odometer</th>\n",
       "      <th>transmission</th>\n",
       "      <th>type</th>\n",
       "      <th>paint_color</th>\n",
       "      <th>is_4wd</th>\n",
       "      <th>date_posted</th>\n",
       "      <th>days_listed</th>\n",
       "      <th>year_posted</th>\n",
       "      <th>month_posted</th>\n",
       "      <th>day_posted</th>\n",
       "      <th>car_age</th>\n",
       "      <th>odometer_per_year</th>\n",
       "      <th>condition_numeric</th>\n",
       "    </tr>\n",
       "  </thead>\n",
       "  <tbody>\n",
       "    <tr>\n",
       "      <th>0</th>\n",
       "      <td>9400</td>\n",
       "      <td>2011</td>\n",
       "      <td>bmw x5</td>\n",
       "      <td>good</td>\n",
       "      <td>6</td>\n",
       "      <td>gas</td>\n",
       "      <td>145000.0</td>\n",
       "      <td>automatic</td>\n",
       "      <td>SUV</td>\n",
       "      <td>unknown</td>\n",
       "      <td>True</td>\n",
       "      <td>2018-06-23</td>\n",
       "      <td>19</td>\n",
       "      <td>2018</td>\n",
       "      <td>6</td>\n",
       "      <td>Saturday</td>\n",
       "      <td>7</td>\n",
       "      <td>20714.29</td>\n",
       "      <td>2</td>\n",
       "    </tr>\n",
       "    <tr>\n",
       "      <th>1</th>\n",
       "      <td>25500</td>\n",
       "      <td>2011</td>\n",
       "      <td>ford f-150</td>\n",
       "      <td>good</td>\n",
       "      <td>6</td>\n",
       "      <td>gas</td>\n",
       "      <td>88705.0</td>\n",
       "      <td>automatic</td>\n",
       "      <td>pickup</td>\n",
       "      <td>white</td>\n",
       "      <td>True</td>\n",
       "      <td>2018-10-19</td>\n",
       "      <td>50</td>\n",
       "      <td>2018</td>\n",
       "      <td>10</td>\n",
       "      <td>Friday</td>\n",
       "      <td>7</td>\n",
       "      <td>12672.14</td>\n",
       "      <td>2</td>\n",
       "    </tr>\n",
       "    <tr>\n",
       "      <th>2</th>\n",
       "      <td>5500</td>\n",
       "      <td>2013</td>\n",
       "      <td>hyundai sonata</td>\n",
       "      <td>like new</td>\n",
       "      <td>4</td>\n",
       "      <td>gas</td>\n",
       "      <td>110000.0</td>\n",
       "      <td>automatic</td>\n",
       "      <td>sedan</td>\n",
       "      <td>red</td>\n",
       "      <td>False</td>\n",
       "      <td>2019-02-07</td>\n",
       "      <td>79</td>\n",
       "      <td>2019</td>\n",
       "      <td>2</td>\n",
       "      <td>Thursday</td>\n",
       "      <td>6</td>\n",
       "      <td>18333.33</td>\n",
       "      <td>4</td>\n",
       "    </tr>\n",
       "    <tr>\n",
       "      <th>3</th>\n",
       "      <td>1500</td>\n",
       "      <td>2003</td>\n",
       "      <td>ford f-150</td>\n",
       "      <td>fair</td>\n",
       "      <td>8</td>\n",
       "      <td>gas</td>\n",
       "      <td>181613.0</td>\n",
       "      <td>automatic</td>\n",
       "      <td>pickup</td>\n",
       "      <td>unknown</td>\n",
       "      <td>False</td>\n",
       "      <td>2019-03-22</td>\n",
       "      <td>9</td>\n",
       "      <td>2019</td>\n",
       "      <td>3</td>\n",
       "      <td>Friday</td>\n",
       "      <td>16</td>\n",
       "      <td>11350.81</td>\n",
       "      <td>1</td>\n",
       "    </tr>\n",
       "    <tr>\n",
       "      <th>4</th>\n",
       "      <td>14900</td>\n",
       "      <td>2017</td>\n",
       "      <td>chrysler 200</td>\n",
       "      <td>excellent</td>\n",
       "      <td>4</td>\n",
       "      <td>gas</td>\n",
       "      <td>80903.0</td>\n",
       "      <td>automatic</td>\n",
       "      <td>sedan</td>\n",
       "      <td>black</td>\n",
       "      <td>False</td>\n",
       "      <td>2019-04-02</td>\n",
       "      <td>28</td>\n",
       "      <td>2019</td>\n",
       "      <td>4</td>\n",
       "      <td>Tuesday</td>\n",
       "      <td>2</td>\n",
       "      <td>40451.50</td>\n",
       "      <td>3</td>\n",
       "    </tr>\n",
       "  </tbody>\n",
       "</table>\n",
       "</div>"
      ],
      "text/plain": [
       "   price  model_year           model  condition  cylinders fuel  odometer  \\\n",
       "0   9400        2011          bmw x5       good          6  gas  145000.0   \n",
       "1  25500        2011      ford f-150       good          6  gas   88705.0   \n",
       "2   5500        2013  hyundai sonata   like new          4  gas  110000.0   \n",
       "3   1500        2003      ford f-150       fair          8  gas  181613.0   \n",
       "4  14900        2017    chrysler 200  excellent          4  gas   80903.0   \n",
       "\n",
       "  transmission    type paint_color  is_4wd date_posted  days_listed  \\\n",
       "0    automatic     SUV     unknown    True  2018-06-23           19   \n",
       "1    automatic  pickup       white    True  2018-10-19           50   \n",
       "2    automatic   sedan         red   False  2019-02-07           79   \n",
       "3    automatic  pickup     unknown   False  2019-03-22            9   \n",
       "4    automatic   sedan       black   False  2019-04-02           28   \n",
       "\n",
       "   year_posted  month_posted day_posted  car_age  odometer_per_year  \\\n",
       "0         2018             6   Saturday        7           20714.29   \n",
       "1         2018            10     Friday        7           12672.14   \n",
       "2         2019             2   Thursday        6           18333.33   \n",
       "3         2019             3     Friday       16           11350.81   \n",
       "4         2019             4    Tuesday        2           40451.50   \n",
       "\n",
       "   condition_numeric  \n",
       "0                  2  \n",
       "1                  2  \n",
       "2                  4  \n",
       "3                  1  \n",
       "4                  3  "
      ]
     },
     "execution_count": 31,
     "metadata": {},
     "output_type": "execute_result"
    }
   ],
   "source": [
    "# Menampilkan sampel data \n",
    "\n",
    "data.head()"
   ]
  },
  {
   "cell_type": "markdown",
   "metadata": {},
   "source": [
    "## Tahap 2: Mempelajari Parameter Inti  <a id='parameter'></a>"
   ]
  },
  {
   "cell_type": "markdown",
   "metadata": {},
   "source": [
    "Mari pelajari parameter inti sebelum melanjutkan analisis."
   ]
  },
  {
   "cell_type": "markdown",
   "metadata": {},
   "source": [
    "### Memeriksa Outlier <a id='outlier_1'></a>"
   ]
  },
  {
   "cell_type": "markdown",
   "metadata": {},
   "source": [
    "Mari memulai proses analisa datanya, pertama kita akan memeriksa outlier beberapa parameter menggunakan *histogaram* dan *boxplot*, parameter yang akan diperiksa adalah:\n",
    "- Harga\n",
    "- Usia kendaraan ketika iklan ditayangkan\n",
    "- Jarak tempuh\n",
    "- Jumlah silinder \n",
    "- Kondisi"
   ]
  },
  {
   "cell_type": "markdown",
   "metadata": {},
   "source": [
    "#### Mebuat histogram parameter `price`"
   ]
  },
  {
   "cell_type": "code",
   "execution_count": 32,
   "metadata": {
    "scrolled": true
   },
   "outputs": [
    {
     "data": {
      "image/png": "[encoded data removed]",
      "text/plain": [
       "<Figure size 432x288 with 1 Axes>"
      ]
     },
     "metadata": {
      "needs_background": "light"
     },
     "output_type": "display_data"
    }
   ],
   "source": [
    "# Membuat histogram kolom `price`\n",
    "\n",
    "sns.histplot(data['price']);"
   ]
  },
  {
   "cell_type": "code",
   "execution_count": 33,
   "metadata": {
    "scrolled": true
   },
   "outputs": [
    {
     "data": {
      "image/png": "[encoded data removed]",
      "text/plain": [
       "<Figure size 432x288 with 1 Axes>"
      ]
     },
     "metadata": {
      "needs_background": "light"
     },
     "output_type": "display_data"
    }
   ],
   "source": [
    "# Membuat boxplot kolom `price` untuk melihat outliernya\n",
    "\n",
    "sns.boxplot(data['price']);"
   ]
  },
  {
   "cell_type": "markdown",
   "metadata": {},
   "source": [
    "Kolom `price` terlihat memiliki outlier yang signifikan sehingga mempengaruhi bentuk histogramnya."
   ]
  },
  {
   "cell_type": "markdown",
   "metadata": {},
   "source": [
    "#### Mebuat histogram parameter `car_age`"
   ]
  },
  {
   "cell_type": "code",
   "execution_count": 34,
   "metadata": {
    "scrolled": true
   },
   "outputs": [
    {
     "data": {
      "image/png": "[encoded data removed]",
      "text/plain": [
       "<Figure size 432x288 with 1 Axes>"
      ]
     },
     "metadata": {
      "needs_background": "light"
     },
     "output_type": "display_data"
    }
   ],
   "source": [
    "# Membuat histogram kolom `car_age`\n",
    "\n",
    "sns.histplot(data['car_age']);"
   ]
  },
  {
   "cell_type": "code",
   "execution_count": 35,
   "metadata": {
    "scrolled": true
   },
   "outputs": [
    {
     "data": {
      "image/png": "[encoded data removed]",
      "text/plain": [
       "<Figure size 432x288 with 1 Axes>"
      ]
     },
     "metadata": {
      "needs_background": "light"
     },
     "output_type": "display_data"
    }
   ],
   "source": [
    "# Membuat boxplot kolom `car_age` untuk melihat outliernya\n",
    "\n",
    "sns.boxplot(data['car_age']);"
   ]
  },
  {
   "cell_type": "markdown",
   "metadata": {},
   "source": [
    "Setelah diperhatikan ternyata kolom `age_car` juga memiliki outlier yang signifikan."
   ]
  },
  {
   "cell_type": "markdown",
   "metadata": {},
   "source": [
    "#### Mebuat histogram parameter `odometer`"
   ]
  },
  {
   "cell_type": "code",
   "execution_count": 36,
   "metadata": {
    "scrolled": true
   },
   "outputs": [
    {
     "data": {
      "image/png": "[encoded data removed]",
      "text/plain": [
       "<Figure size 432x288 with 1 Axes>"
      ]
     },
     "metadata": {
      "needs_background": "light"
     },
     "output_type": "display_data"
    }
   ],
   "source": [
    "# Membuat histogram kolom `odometer`\n",
    "\n",
    "sns.histplot(data['odometer']);"
   ]
  },
  {
   "cell_type": "code",
   "execution_count": 37,
   "metadata": {},
   "outputs": [
    {
     "data": {
      "image/png": "[encoded data removed]",
      "text/plain": [
       "<Figure size 432x288 with 1 Axes>"
      ]
     },
     "metadata": {
      "needs_background": "light"
     },
     "output_type": "display_data"
    }
   ],
   "source": [
    "# Membuat boxplot kolom `odometer` untuk melihat outliernya\n",
    "\n",
    "sns.boxplot(data['odometer']);"
   ]
  },
  {
   "cell_type": "markdown",
   "metadata": {},
   "source": [
    "Outier yang signifikan juga beraku pada kolom `odometer`. Selain itu jika diperhatikan terjadi beberapa lonjakan data, hal ini mungkin disebakan oleh nilai pengganti dari nilai yang hilang."
   ]
  },
  {
   "cell_type": "markdown",
   "metadata": {},
   "source": [
    "#### Mebuat histogram parameter `cylinders`"
   ]
  },
  {
   "cell_type": "code",
   "execution_count": 38,
   "metadata": {
    "scrolled": true
   },
   "outputs": [
    {
     "data": {
      "image/png": "[encoded data removed]",
      "text/plain": [
       "<Figure size 432x288 with 1 Axes>"
      ]
     },
     "metadata": {
      "needs_background": "light"
     },
     "output_type": "display_data"
    }
   ],
   "source": [
    "# Membuat histogram kolom `cylinders`\n",
    "\n",
    "sns.countplot(data['cylinders']);"
   ]
  },
  {
   "cell_type": "code",
   "execution_count": 39,
   "metadata": {},
   "outputs": [
    {
     "data": {
      "image/png": "[encoded data removed]",
      "text/plain": [
       "<Figure size 432x288 with 1 Axes>"
      ]
     },
     "metadata": {
      "needs_background": "light"
     },
     "output_type": "display_data"
    }
   ],
   "source": [
    "# Membuat boxplot kolom `cylinders` untuk melihat outliernya\n",
    "\n",
    "sns.boxplot(data['cylinders']);"
   ]
  },
  {
   "cell_type": "markdown",
   "metadata": {},
   "source": [
    "Sepertinya parameter `cylinders` tidak memiliki outlier."
   ]
  },
  {
   "cell_type": "markdown",
   "metadata": {},
   "source": [
    "#### Mebuat histogram parameter `condition_numeric`"
   ]
  },
  {
   "cell_type": "code",
   "execution_count": 40,
   "metadata": {
    "scrolled": true
   },
   "outputs": [
    {
     "data": {
      "image/png": "[encoded data removed]",
      "text/plain": [
       "<Figure size 432x288 with 1 Axes>"
      ]
     },
     "metadata": {
      "needs_background": "light"
     },
     "output_type": "display_data"
    }
   ],
   "source": [
    "# Membuat histogram kolom `condition_numeric`\n",
    "\n",
    "sns.countplot(data['condition_numeric']);"
   ]
  },
  {
   "cell_type": "code",
   "execution_count": 41,
   "metadata": {
    "scrolled": true
   },
   "outputs": [
    {
     "data": {
      "image/png": "[encoded data removed]",
      "text/plain": [
       "<Figure size 432x288 with 1 Axes>"
      ]
     },
     "metadata": {
      "needs_background": "light"
     },
     "output_type": "display_data"
    }
   ],
   "source": [
    "# Membuat boxplot kolom `condition_numeric` untuk melihat outliernya\n",
    "\n",
    "sns.boxplot(data['condition_numeric']);"
   ]
  },
  {
   "cell_type": "markdown",
   "metadata": {},
   "source": [
    "Terdapat outlier pada parameter `condition_numeric`"
   ]
  },
  {
   "cell_type": "markdown",
   "metadata": {},
   "source": [
    "### Mempelajari dan Menangani Outlier <a id='outlier_2'></a>"
   ]
  },
  {
   "cell_type": "markdown",
   "metadata": {},
   "source": [
    "Dari semua yang telah kita periksa, hanya jumlah silinder yang tidak memiliki outlier. Untuk memproses outlier kita perlu mengetahui batas atas dan batas bawah masing-masing parameter. Kemudian kita akan membuat *dataframe* baru yang berisikan *dataset* yang telah difilter.\n",
    "\n",
    "Pertama-tama mari kita cari tahu batas atas dan batas bawah parameter berikut:\n",
    "- Harga\n",
    "- Usia kendaraan ketika iklan ditayangkan\n",
    "- Jarak tempuh \n",
    "- Kondisi"
   ]
  },
  {
   "cell_type": "code",
   "execution_count": 42,
   "metadata": {},
   "outputs": [
    {
     "name": "stdout",
     "output_type": "stream",
     "text": [
      "Upper Whisker Price: 34597.5\n",
      "Lower Whisker Price: -12758.5\n"
     ]
    }
   ],
   "source": [
    "# Menentukan batas atas dan batas bawah outlier dari parameter `price`\n",
    "\n",
    "Q1_Price = data['price'].quantile(0.25)\n",
    "Q3_Price = data['price'].quantile(0.75)\n",
    "IQR_price = Q3_Price - Q1_Price\n",
    "lower_whisker_price = Q1_Price - (1.5 * IQR_price)\n",
    "upper_whisker_price = Q3_Price + (1.5 * IQR_price)\n",
    "\n",
    "print('Upper Whisker Price:', upper_whisker_price)\n",
    "print('Lower Whisker Price:', lower_whisker_price)"
   ]
  },
  {
   "cell_type": "code",
   "execution_count": 43,
   "metadata": {},
   "outputs": [
    {
     "name": "stdout",
     "output_type": "stream",
     "text": [
      "Upper Whisker Age: 24.0\n",
      "Lower Whisker Age: -8.0\n"
     ]
    }
   ],
   "source": [
    "# Menentukan batas atas dan batas bawah outlier dari parameter `car_age`\n",
    "\n",
    "Q1_Price = data['car_age'].quantile(0.25)\n",
    "Q3_Price = data['car_age'].quantile(0.75)\n",
    "IQR_price = Q3_Price - Q1_Price\n",
    "lower_whisker_age = Q1_Price - (1.5 * IQR_price)\n",
    "upper_whisker_age = Q3_Price + (1.5 * IQR_price)\n",
    "\n",
    "print('Upper Whisker Age:', upper_whisker_age)\n",
    "print('Lower Whisker Age:', lower_whisker_age)"
   ]
  },
  {
   "cell_type": "code",
   "execution_count": 44,
   "metadata": {},
   "outputs": [
    {
     "name": "stdout",
     "output_type": "stream",
     "text": [
      "Upper Whisker Odometer: 256050.5\n",
      "Lower Whisker Odometer: -32561.5\n"
     ]
    }
   ],
   "source": [
    "# Menentukan batas atas dan batas bawah outlier dari parameter `odometer`\n",
    "\n",
    "Q1_Price = data['odometer'].quantile(0.25)\n",
    "Q3_Price = data['odometer'].quantile(0.75)\n",
    "IQR_price = Q3_Price - Q1_Price\n",
    "lower_whisker_odometer = Q1_Price - (1.5 * IQR_price)\n",
    "upper_whisker_odometer = Q3_Price + (1.5 * IQR_price)\n",
    "\n",
    "print('Upper Whisker Odometer:', upper_whisker_odometer)\n",
    "print('Lower Whisker Odometer:', lower_whisker_odometer)"
   ]
  },
  {
   "cell_type": "code",
   "execution_count": 45,
   "metadata": {},
   "outputs": [
    {
     "name": "stdout",
     "output_type": "stream",
     "text": [
      "Upper Whisker Condition: 4.5\n",
      "Lower Whisker Condition: 0.5\n"
     ]
    }
   ],
   "source": [
    "# Menentukan batas atas dan batas bawah outlier dari parameter `condition_numeric`\n",
    "\n",
    "Q1_Price = data['condition_numeric'].quantile(0.25)\n",
    "Q3_Price = data['condition_numeric'].quantile(0.75)\n",
    "IQR_price = Q3_Price - Q1_Price\n",
    "lower_whisker_condition = Q1_Price - (1.5 * IQR_price)\n",
    "upper_whisker_condition = Q3_Price + (1.5 * IQR_price)\n",
    "\n",
    "print('Upper Whisker Condition:', upper_whisker_condition)\n",
    "print('Lower Whisker Condition:', lower_whisker_condition)"
   ]
  },
  {
   "cell_type": "markdown",
   "metadata": {},
   "source": [
    "Batas atas dan batas bawah setiap parameter telah dibuat, selanjutnya *dataframe* akan difilter menggunakan batas atas dan batas bawah yang telah ditentukan."
   ]
  },
  {
   "cell_type": "code",
   "execution_count": 46,
   "metadata": {},
   "outputs": [],
   "source": [
    "# Menyimpan data tanpa outlier dalam DataFrame yang terpisah\n",
    "\n",
    "data_filtered = data[(data['price'] > lower_whisker_price) & (data['price'] < upper_whisker_price)]\n",
    "data_filtered = data_filtered[(data_filtered['car_age'] > lower_whisker_age) & (data_filtered['car_age'] < upper_whisker_age)]\n",
    "data_filtered = data_filtered[(data_filtered['odometer'] > lower_whisker_odometer) & (data_filtered['odometer'] < upper_whisker_odometer)]\n",
    "data_filtered = data_filtered[(data_filtered['condition_numeric'] > lower_whisker_condition) & (data_filtered['condition_numeric'] < upper_whisker_condition)]"
   ]
  },
  {
   "cell_type": "markdown",
   "metadata": {},
   "source": [
    "### Mempelajari Parameter Inti Tanpa Outlier <a id='outlier_3'></a>"
   ]
  },
  {
   "cell_type": "markdown",
   "metadata": {},
   "source": [
    "*Dataframe* yang telah difilter sudah dibuat, mari pelajari dan bandingkan dengan *dataframe* lama yang belum difilter."
   ]
  },
  {
   "cell_type": "markdown",
   "metadata": {},
   "source": [
    "#### Membandingkan dataframe dengan dan tanpa outlier"
   ]
  },
  {
   "cell_type": "markdown",
   "metadata": {},
   "source": [
    "Dataframe yang belum difilter:"
   ]
  },
  {
   "cell_type": "code",
   "execution_count": 47,
   "metadata": {},
   "outputs": [
    {
     "data": {
      "text/plain": [
       "(51525, 19)"
      ]
     },
     "execution_count": 47,
     "metadata": {},
     "output_type": "execute_result"
    }
   ],
   "source": [
    "data.shape"
   ]
  },
  {
   "cell_type": "code",
   "execution_count": 48,
   "metadata": {},
   "outputs": [
    {
     "data": {
      "text/html": [
       "<div>\n",
       "<style scoped>\n",
       "    .dataframe tbody tr th:only-of-type {\n",
       "        vertical-align: middle;\n",
       "    }\n",
       "\n",
       "    .dataframe tbody tr th {\n",
       "        vertical-align: top;\n",
       "    }\n",
       "\n",
       "    .dataframe thead th {\n",
       "        text-align: right;\n",
       "    }\n",
       "</style>\n",
       "<table border=\"1\" class=\"dataframe\">\n",
       "  <thead>\n",
       "    <tr style=\"text-align: right;\">\n",
       "      <th></th>\n",
       "      <th>price</th>\n",
       "      <th>model_year</th>\n",
       "      <th>cylinders</th>\n",
       "      <th>odometer</th>\n",
       "      <th>days_listed</th>\n",
       "      <th>year_posted</th>\n",
       "      <th>month_posted</th>\n",
       "      <th>car_age</th>\n",
       "      <th>odometer_per_year</th>\n",
       "      <th>condition_numeric</th>\n",
       "    </tr>\n",
       "  </thead>\n",
       "  <tbody>\n",
       "    <tr>\n",
       "      <th>count</th>\n",
       "      <td>51525.000000</td>\n",
       "      <td>51525.000000</td>\n",
       "      <td>51525.000000</td>\n",
       "      <td>51525.000000</td>\n",
       "      <td>51525.00000</td>\n",
       "      <td>51525.000000</td>\n",
       "      <td>51525.000000</td>\n",
       "      <td>51525.000000</td>\n",
       "      <td>51523.000</td>\n",
       "      <td>51525.000000</td>\n",
       "    </tr>\n",
       "    <tr>\n",
       "      <th>mean</th>\n",
       "      <td>12132.464920</td>\n",
       "      <td>2009.793557</td>\n",
       "      <td>6.112450</td>\n",
       "      <td>115199.014508</td>\n",
       "      <td>39.55476</td>\n",
       "      <td>2018.307462</td>\n",
       "      <td>6.628491</td>\n",
       "      <td>8.513906</td>\n",
       "      <td>inf</td>\n",
       "      <td>2.637535</td>\n",
       "    </tr>\n",
       "    <tr>\n",
       "      <th>std</th>\n",
       "      <td>10040.803015</td>\n",
       "      <td>6.099381</td>\n",
       "      <td>1.573784</td>\n",
       "      <td>60484.863376</td>\n",
       "      <td>28.20427</td>\n",
       "      <td>0.461447</td>\n",
       "      <td>3.474134</td>\n",
       "      <td>6.112976</td>\n",
       "      <td>NaN</td>\n",
       "      <td>0.712447</td>\n",
       "    </tr>\n",
       "    <tr>\n",
       "      <th>min</th>\n",
       "      <td>1.000000</td>\n",
       "      <td>1908.000000</td>\n",
       "      <td>3.000000</td>\n",
       "      <td>0.000000</td>\n",
       "      <td>0.00000</td>\n",
       "      <td>2018.000000</td>\n",
       "      <td>1.000000</td>\n",
       "      <td>0.000000</td>\n",
       "      <td>0.000</td>\n",
       "      <td>0.000000</td>\n",
       "    </tr>\n",
       "    <tr>\n",
       "      <th>25%</th>\n",
       "      <td>5000.000000</td>\n",
       "      <td>2007.000000</td>\n",
       "      <td>4.000000</td>\n",
       "      <td>75668.000000</td>\n",
       "      <td>19.00000</td>\n",
       "      <td>2018.000000</td>\n",
       "      <td>3.000000</td>\n",
       "      <td>4.000000</td>\n",
       "      <td>10585.770</td>\n",
       "      <td>2.000000</td>\n",
       "    </tr>\n",
       "    <tr>\n",
       "      <th>50%</th>\n",
       "      <td>9000.000000</td>\n",
       "      <td>2011.000000</td>\n",
       "      <td>6.000000</td>\n",
       "      <td>110908.000000</td>\n",
       "      <td>33.00000</td>\n",
       "      <td>2018.000000</td>\n",
       "      <td>7.000000</td>\n",
       "      <td>8.000000</td>\n",
       "      <td>15272.730</td>\n",
       "      <td>3.000000</td>\n",
       "    </tr>\n",
       "    <tr>\n",
       "      <th>75%</th>\n",
       "      <td>16839.000000</td>\n",
       "      <td>2014.000000</td>\n",
       "      <td>8.000000</td>\n",
       "      <td>147821.000000</td>\n",
       "      <td>53.00000</td>\n",
       "      <td>2019.000000</td>\n",
       "      <td>10.000000</td>\n",
       "      <td>12.000000</td>\n",
       "      <td>22858.195</td>\n",
       "      <td>3.000000</td>\n",
       "    </tr>\n",
       "    <tr>\n",
       "      <th>max</th>\n",
       "      <td>375000.000000</td>\n",
       "      <td>2019.000000</td>\n",
       "      <td>12.000000</td>\n",
       "      <td>990000.000000</td>\n",
       "      <td>271.00000</td>\n",
       "      <td>2019.000000</td>\n",
       "      <td>12.000000</td>\n",
       "      <td>110.000000</td>\n",
       "      <td>inf</td>\n",
       "      <td>5.000000</td>\n",
       "    </tr>\n",
       "  </tbody>\n",
       "</table>\n",
       "</div>"
      ],
      "text/plain": [
       "               price    model_year     cylinders       odometer  days_listed  \\\n",
       "count   51525.000000  51525.000000  51525.000000   51525.000000  51525.00000   \n",
       "mean    12132.464920   2009.793557      6.112450  115199.014508     39.55476   \n",
       "std     10040.803015      6.099381      1.573784   60484.863376     28.20427   \n",
       "min         1.000000   1908.000000      3.000000       0.000000      0.00000   \n",
       "25%      5000.000000   2007.000000      4.000000   75668.000000     19.00000   \n",
       "50%      9000.000000   2011.000000      6.000000  110908.000000     33.00000   \n",
       "75%     16839.000000   2014.000000      8.000000  147821.000000     53.00000   \n",
       "max    375000.000000   2019.000000     12.000000  990000.000000    271.00000   \n",
       "\n",
       "        year_posted  month_posted       car_age  odometer_per_year  \\\n",
       "count  51525.000000  51525.000000  51525.000000          51523.000   \n",
       "mean    2018.307462      6.628491      8.513906                inf   \n",
       "std        0.461447      3.474134      6.112976                NaN   \n",
       "min     2018.000000      1.000000      0.000000              0.000   \n",
       "25%     2018.000000      3.000000      4.000000          10585.770   \n",
       "50%     2018.000000      7.000000      8.000000          15272.730   \n",
       "75%     2019.000000     10.000000     12.000000          22858.195   \n",
       "max     2019.000000     12.000000    110.000000                inf   \n",
       "\n",
       "       condition_numeric  \n",
       "count       51525.000000  \n",
       "mean            2.637535  \n",
       "std             0.712447  \n",
       "min             0.000000  \n",
       "25%             2.000000  \n",
       "50%             3.000000  \n",
       "75%             3.000000  \n",
       "max             5.000000  "
      ]
     },
     "execution_count": 48,
     "metadata": {},
     "output_type": "execute_result"
    }
   ],
   "source": [
    "data.describe()"
   ]
  },
  {
   "cell_type": "markdown",
   "metadata": {},
   "source": [
    "Dataframe yang telah difilter:"
   ]
  },
  {
   "cell_type": "code",
   "execution_count": 49,
   "metadata": {},
   "outputs": [
    {
     "data": {
      "text/plain": [
       "(47953, 19)"
      ]
     },
     "execution_count": 49,
     "metadata": {},
     "output_type": "execute_result"
    }
   ],
   "source": [
    "data_filtered.shape"
   ]
  },
  {
   "cell_type": "code",
   "execution_count": 50,
   "metadata": {
    "scrolled": true
   },
   "outputs": [
    {
     "data": {
      "text/html": [
       "<div>\n",
       "<style scoped>\n",
       "    .dataframe tbody tr th:only-of-type {\n",
       "        vertical-align: middle;\n",
       "    }\n",
       "\n",
       "    .dataframe tbody tr th {\n",
       "        vertical-align: top;\n",
       "    }\n",
       "\n",
       "    .dataframe thead th {\n",
       "        text-align: right;\n",
       "    }\n",
       "</style>\n",
       "<table border=\"1\" class=\"dataframe\">\n",
       "  <thead>\n",
       "    <tr style=\"text-align: right;\">\n",
       "      <th></th>\n",
       "      <th>price</th>\n",
       "      <th>model_year</th>\n",
       "      <th>cylinders</th>\n",
       "      <th>odometer</th>\n",
       "      <th>days_listed</th>\n",
       "      <th>year_posted</th>\n",
       "      <th>month_posted</th>\n",
       "      <th>car_age</th>\n",
       "      <th>odometer_per_year</th>\n",
       "      <th>condition_numeric</th>\n",
       "    </tr>\n",
       "  </thead>\n",
       "  <tbody>\n",
       "    <tr>\n",
       "      <th>count</th>\n",
       "      <td>47953.000000</td>\n",
       "      <td>47953.000000</td>\n",
       "      <td>47953.000000</td>\n",
       "      <td>47953.000000</td>\n",
       "      <td>47953.000000</td>\n",
       "      <td>47953.000000</td>\n",
       "      <td>47953.000000</td>\n",
       "      <td>47953.000000</td>\n",
       "      <td>47952.000</td>\n",
       "      <td>47953.000000</td>\n",
       "    </tr>\n",
       "    <tr>\n",
       "      <th>mean</th>\n",
       "      <td>11264.994912</td>\n",
       "      <td>2010.128897</td>\n",
       "      <td>6.051926</td>\n",
       "      <td>113710.629220</td>\n",
       "      <td>39.543178</td>\n",
       "      <td>2018.306383</td>\n",
       "      <td>6.635539</td>\n",
       "      <td>8.177486</td>\n",
       "      <td>inf</td>\n",
       "      <td>2.638646</td>\n",
       "    </tr>\n",
       "    <tr>\n",
       "      <th>std</th>\n",
       "      <td>7824.084262</td>\n",
       "      <td>4.961132</td>\n",
       "      <td>1.572799</td>\n",
       "      <td>52967.604835</td>\n",
       "      <td>28.224074</td>\n",
       "      <td>0.460996</td>\n",
       "      <td>3.472632</td>\n",
       "      <td>4.974167</td>\n",
       "      <td>NaN</td>\n",
       "      <td>0.680268</td>\n",
       "    </tr>\n",
       "    <tr>\n",
       "      <th>min</th>\n",
       "      <td>1.000000</td>\n",
       "      <td>1995.000000</td>\n",
       "      <td>3.000000</td>\n",
       "      <td>0.000000</td>\n",
       "      <td>0.000000</td>\n",
       "      <td>2018.000000</td>\n",
       "      <td>1.000000</td>\n",
       "      <td>0.000000</td>\n",
       "      <td>0.000</td>\n",
       "      <td>1.000000</td>\n",
       "    </tr>\n",
       "    <tr>\n",
       "      <th>25%</th>\n",
       "      <td>5000.000000</td>\n",
       "      <td>2007.000000</td>\n",
       "      <td>4.000000</td>\n",
       "      <td>78840.000000</td>\n",
       "      <td>19.000000</td>\n",
       "      <td>2018.000000</td>\n",
       "      <td>3.000000</td>\n",
       "      <td>4.000000</td>\n",
       "      <td>10683.120</td>\n",
       "      <td>2.000000</td>\n",
       "    </tr>\n",
       "    <tr>\n",
       "      <th>50%</th>\n",
       "      <td>8995.000000</td>\n",
       "      <td>2011.000000</td>\n",
       "      <td>6.000000</td>\n",
       "      <td>111880.000000</td>\n",
       "      <td>33.000000</td>\n",
       "      <td>2018.000000</td>\n",
       "      <td>7.000000</td>\n",
       "      <td>7.000000</td>\n",
       "      <td>15131.355</td>\n",
       "      <td>3.000000</td>\n",
       "    </tr>\n",
       "    <tr>\n",
       "      <th>75%</th>\n",
       "      <td>15995.000000</td>\n",
       "      <td>2014.000000</td>\n",
       "      <td>8.000000</td>\n",
       "      <td>146000.000000</td>\n",
       "      <td>53.000000</td>\n",
       "      <td>2019.000000</td>\n",
       "      <td>10.000000</td>\n",
       "      <td>11.000000</td>\n",
       "      <td>22258.250</td>\n",
       "      <td>3.000000</td>\n",
       "    </tr>\n",
       "    <tr>\n",
       "      <th>max</th>\n",
       "      <td>34595.000000</td>\n",
       "      <td>2019.000000</td>\n",
       "      <td>12.000000</td>\n",
       "      <td>256000.000000</td>\n",
       "      <td>271.000000</td>\n",
       "      <td>2019.000000</td>\n",
       "      <td>12.000000</td>\n",
       "      <td>23.000000</td>\n",
       "      <td>inf</td>\n",
       "      <td>4.000000</td>\n",
       "    </tr>\n",
       "  </tbody>\n",
       "</table>\n",
       "</div>"
      ],
      "text/plain": [
       "              price    model_year     cylinders       odometer   days_listed  \\\n",
       "count  47953.000000  47953.000000  47953.000000   47953.000000  47953.000000   \n",
       "mean   11264.994912   2010.128897      6.051926  113710.629220     39.543178   \n",
       "std     7824.084262      4.961132      1.572799   52967.604835     28.224074   \n",
       "min        1.000000   1995.000000      3.000000       0.000000      0.000000   \n",
       "25%     5000.000000   2007.000000      4.000000   78840.000000     19.000000   \n",
       "50%     8995.000000   2011.000000      6.000000  111880.000000     33.000000   \n",
       "75%    15995.000000   2014.000000      8.000000  146000.000000     53.000000   \n",
       "max    34595.000000   2019.000000     12.000000  256000.000000    271.000000   \n",
       "\n",
       "        year_posted  month_posted       car_age  odometer_per_year  \\\n",
       "count  47953.000000  47953.000000  47953.000000          47952.000   \n",
       "mean    2018.306383      6.635539      8.177486                inf   \n",
       "std        0.460996      3.472632      4.974167                NaN   \n",
       "min     2018.000000      1.000000      0.000000              0.000   \n",
       "25%     2018.000000      3.000000      4.000000          10683.120   \n",
       "50%     2018.000000      7.000000      7.000000          15131.355   \n",
       "75%     2019.000000     10.000000     11.000000          22258.250   \n",
       "max     2019.000000     12.000000     23.000000                inf   \n",
       "\n",
       "       condition_numeric  \n",
       "count       47953.000000  \n",
       "mean            2.638646  \n",
       "std             0.680268  \n",
       "min             1.000000  \n",
       "25%             2.000000  \n",
       "50%             3.000000  \n",
       "75%             3.000000  \n",
       "max             4.000000  "
      ]
     },
     "execution_count": 50,
     "metadata": {},
     "output_type": "execute_result"
    }
   ],
   "source": [
    "data_filtered.describe()"
   ]
  },
  {
   "cell_type": "markdown",
   "metadata": {},
   "source": [
    "Terdapat perbedaan nilai rata-rata dan median, hal ini tentunya dikarenakan data telah berkurang sebanyak 3572 data setelah difilter sehingga menggeser nilai rata-rata maupun mediannya."
   ]
  },
  {
   "cell_type": "markdown",
   "metadata": {},
   "source": [
    "#### Membandingkan histogram parameter `price`"
   ]
  },
  {
   "cell_type": "markdown",
   "metadata": {},
   "source": [
    "Memeriksa outliernya menggunakan *boxplot* "
   ]
  },
  {
   "cell_type": "code",
   "execution_count": 51,
   "metadata": {},
   "outputs": [
    {
     "data": {
      "image/png": "[encoded data removed]",
      "text/plain": [
       "<Figure size 432x288 with 1 Axes>"
      ]
     },
     "metadata": {
      "needs_background": "light"
     },
     "output_type": "display_data"
    }
   ],
   "source": [
    "# Melihat boxplot dari dataframe yang telah difilter\n",
    "\n",
    "sns.boxplot(data_filtered['price']);"
   ]
  },
  {
   "cell_type": "markdown",
   "metadata": {},
   "source": [
    "*Dataframe* yang telah difilter masih tedapat sedikit outlier, walaupun demikian outlier yang ada bukan merupakan nilai yang ekstrem sehingga kita dapat mengabaikannya."
   ]
  },
  {
   "cell_type": "markdown",
   "metadata": {},
   "source": [
    "*Dataframe* yang belum difilter:"
   ]
  },
  {
   "cell_type": "code",
   "execution_count": 52,
   "metadata": {},
   "outputs": [
    {
     "data": {
      "image/png": "[encoded data removed]",
      "text/plain": [
       "<Figure size 432x288 with 1 Axes>"
      ]
     },
     "metadata": {
      "needs_background": "light"
     },
     "output_type": "display_data"
    }
   ],
   "source": [
    "sns.histplot(data['price']);"
   ]
  },
  {
   "cell_type": "markdown",
   "metadata": {},
   "source": [
    "*Dataframe* yang telah difilter:"
   ]
  },
  {
   "cell_type": "code",
   "execution_count": 53,
   "metadata": {
    "scrolled": false
   },
   "outputs": [
    {
     "data": {
      "image/png": "[encoded data removed]",
      "text/plain": [
       "<Figure size 432x288 with 1 Axes>"
      ]
     },
     "metadata": {
      "needs_background": "light"
     },
     "output_type": "display_data"
    }
   ],
   "source": [
    "sns.histplot(data_filtered['price']);"
   ]
  },
  {
   "cell_type": "markdown",
   "metadata": {},
   "source": [
    "Sekarang histogramnya jadi dapat lebih mudah dibaca, mari periksa parameter selanjutnya."
   ]
  },
  {
   "cell_type": "markdown",
   "metadata": {},
   "source": [
    "#### Membandingkan histogram parameter `car_age` "
   ]
  },
  {
   "cell_type": "markdown",
   "metadata": {},
   "source": [
    "Memeriksa outliernya menggunakan *boxplot* "
   ]
  },
  {
   "cell_type": "code",
   "execution_count": 54,
   "metadata": {},
   "outputs": [
    {
     "data": {
      "image/png": "[encoded data removed]",
      "text/plain": [
       "<Figure size 432x288 with 1 Axes>"
      ]
     },
     "metadata": {
      "needs_background": "light"
     },
     "output_type": "display_data"
    }
   ],
   "source": [
    "# Melihat boxplot dari dataframe yang telah difilter\n",
    "\n",
    "sns.boxplot(data_filtered['car_age']);"
   ]
  },
  {
   "cell_type": "markdown",
   "metadata": {},
   "source": [
    "Parameter `car_age` juga masih tedapat sedikit outlier, namun kita juga dapat mengabaikannya."
   ]
  },
  {
   "cell_type": "markdown",
   "metadata": {},
   "source": [
    "*Dataframe* yang belum difilter:"
   ]
  },
  {
   "cell_type": "code",
   "execution_count": 55,
   "metadata": {
    "scrolled": true
   },
   "outputs": [
    {
     "data": {
      "image/png": "[encoded data removed]",
      "text/plain": [
       "<Figure size 432x288 with 1 Axes>"
      ]
     },
     "metadata": {
      "needs_background": "light"
     },
     "output_type": "display_data"
    }
   ],
   "source": [
    "sns.histplot(data['car_age']);"
   ]
  },
  {
   "cell_type": "markdown",
   "metadata": {},
   "source": [
    "*Dataframe* yang telah difilter:"
   ]
  },
  {
   "cell_type": "code",
   "execution_count": 56,
   "metadata": {
    "scrolled": false
   },
   "outputs": [
    {
     "data": {
      "image/png": "[encoded data removed]",
      "text/plain": [
       "<Figure size 432x288 with 1 Axes>"
      ]
     },
     "metadata": {
      "needs_background": "light"
     },
     "output_type": "display_data"
    }
   ],
   "source": [
    "sns.histplot(data_filtered['car_age']);"
   ]
  },
  {
   "cell_type": "markdown",
   "metadata": {},
   "source": [
    "Histogramnya terlihat jauh lebih baik."
   ]
  },
  {
   "cell_type": "markdown",
   "metadata": {},
   "source": [
    "#### Membandingkan histogram parameter `odometer`"
   ]
  },
  {
   "cell_type": "markdown",
   "metadata": {},
   "source": [
    "Memeriksa outliernya menggunakan boxplot."
   ]
  },
  {
   "cell_type": "code",
   "execution_count": 57,
   "metadata": {},
   "outputs": [
    {
     "data": {
      "image/png": "[encoded data removed]",
      "text/plain": [
       "<Figure size 432x288 with 1 Axes>"
      ]
     },
     "metadata": {
      "needs_background": "light"
     },
     "output_type": "display_data"
    }
   ],
   "source": [
    "# Melihat boxplot dari dataframe yang telah difilter\n",
    "\n",
    "sns.boxplot(data_filtered['odometer']);"
   ]
  },
  {
   "cell_type": "markdown",
   "metadata": {},
   "source": [
    "Parameter ini juga masih tedapat sedikit outlier, dan kita tetap dapat mengabaikannya."
   ]
  },
  {
   "cell_type": "markdown",
   "metadata": {},
   "source": [
    "*Dataframe* yang belum difilter:"
   ]
  },
  {
   "cell_type": "code",
   "execution_count": 58,
   "metadata": {},
   "outputs": [
    {
     "data": {
      "image/png": "[encoded data removed]",
      "text/plain": [
       "<Figure size 432x288 with 1 Axes>"
      ]
     },
     "metadata": {
      "needs_background": "light"
     },
     "output_type": "display_data"
    }
   ],
   "source": [
    "sns.histplot(data['odometer']);"
   ]
  },
  {
   "cell_type": "markdown",
   "metadata": {},
   "source": [
    "*Dataframe* yang telah difilter:"
   ]
  },
  {
   "cell_type": "code",
   "execution_count": 59,
   "metadata": {
    "scrolled": true
   },
   "outputs": [
    {
     "data": {
      "image/png": "[encoded data removed]",
      "text/plain": [
       "<Figure size 432x288 with 1 Axes>"
      ]
     },
     "metadata": {
      "needs_background": "light"
     },
     "output_type": "display_data"
    }
   ],
   "source": [
    "sns.histplot(data_filtered['odometer']);"
   ]
  },
  {
   "cell_type": "markdown",
   "metadata": {},
   "source": [
    "Histogramnya sudah lebih mudah dipahami, nilai amun tetap ada lonjakan data yang signifikan di beberapa titik yang disebabkan oleh nilai pengganti dari nilai yang hilang."
   ]
  },
  {
   "cell_type": "markdown",
   "metadata": {},
   "source": [
    "#### Membandingkan histogram parameter `condition_numeric`"
   ]
  },
  {
   "cell_type": "markdown",
   "metadata": {},
   "source": [
    "Memeriksa outliernya menggunakan boxplot."
   ]
  },
  {
   "cell_type": "code",
   "execution_count": 60,
   "metadata": {
    "scrolled": true
   },
   "outputs": [
    {
     "data": {
      "image/png": "[encoded data removed]",
      "text/plain": [
       "<Figure size 432x288 with 1 Axes>"
      ]
     },
     "metadata": {
      "needs_background": "light"
     },
     "output_type": "display_data"
    }
   ],
   "source": [
    "# Melihat boxplot dari dataframe yang telah difilter\n",
    "\n",
    "sns.boxplot(data_filtered['condition_numeric']);"
   ]
  },
  {
   "cell_type": "markdown",
   "metadata": {},
   "source": [
    "Outliernya telah benar-benar hilang."
   ]
  },
  {
   "cell_type": "markdown",
   "metadata": {},
   "source": [
    "Dataframe yang belum difilter:"
   ]
  },
  {
   "cell_type": "code",
   "execution_count": 61,
   "metadata": {},
   "outputs": [
    {
     "data": {
      "image/png": "[encoded data removed]",
      "text/plain": [
       "<Figure size 432x288 with 1 Axes>"
      ]
     },
     "metadata": {
      "needs_background": "light"
     },
     "output_type": "display_data"
    }
   ],
   "source": [
    "sns.countplot(data['condition_numeric']);"
   ]
  },
  {
   "cell_type": "markdown",
   "metadata": {},
   "source": [
    "Dataframe yang telah difilter:"
   ]
  },
  {
   "cell_type": "code",
   "execution_count": 62,
   "metadata": {
    "scrolled": true
   },
   "outputs": [
    {
     "data": {
      "image/png": "[encoded data removed]",
      "text/plain": [
       "<Figure size 432x288 with 1 Axes>"
      ]
     },
     "metadata": {
      "needs_background": "light"
     },
     "output_type": "display_data"
    }
   ],
   "source": [
    "sns.countplot(data_filtered['condition_numeric']);"
   ]
  },
  {
   "cell_type": "markdown",
   "metadata": {},
   "source": [
    "Nilai 0 dan 5 merupakan outlier sehingga data dengan nilai tersebut tidak masuk ke dalam *dataframe* yang telah difilter."
   ]
  },
  {
   "cell_type": "markdown",
   "metadata": {},
   "source": [
    "## Tahap 3: Masa Berlaku Iklan <a id='ads'></a>"
   ]
  },
  {
   "cell_type": "markdown",
   "metadata": {},
   "source": [
    "Selanjutnya mari pelajari berapa hal berikut:\n",
    "1. Berapa hari rata-rata sebuah iklan ditayangkan?\n",
    "2. Berapa nilai mediannya?\n",
    "3. Berapa lama waktu tercepat suatu iklan dihapus?\n",
    "4. Berapa lama waktu terlama suatu iklan ditayangkan?"
   ]
  },
  {
   "cell_type": "code",
   "execution_count": 63,
   "metadata": {
    "scrolled": true
   },
   "outputs": [
    {
     "data": {
      "text/plain": [
       "count    47953.000000\n",
       "mean        39.543178\n",
       "std         28.224074\n",
       "min          0.000000\n",
       "25%         19.000000\n",
       "50%         33.000000\n",
       "75%         53.000000\n",
       "max        271.000000\n",
       "Name: days_listed, dtype: float64"
      ]
     },
     "execution_count": 63,
     "metadata": {},
     "output_type": "execute_result"
    }
   ],
   "source": [
    "data_filtered['days_listed'].describe()"
   ]
  },
  {
   "cell_type": "code",
   "execution_count": 64,
   "metadata": {
    "scrolled": true
   },
   "outputs": [
    {
     "data": {
      "image/png": "[encoded data removed]",
      "text/plain": [
       "<Figure size 432x288 with 1 Axes>"
      ]
     },
     "metadata": {
      "needs_background": "light"
     },
     "output_type": "display_data"
    }
   ],
   "source": [
    "sns.histplot(data_filtered['days_listed']);"
   ]
  },
  {
   "cell_type": "markdown",
   "metadata": {},
   "source": [
    "Dari data di atas dapat ditarik suatu kesimpulan sebagai berikut:\n",
    "1. Umumnya iklan ditayangkan rata-rata dalam waktu 39 hari.\n",
    "2. Median usia sebuah iklan adalah 33 hari.\n",
    "3. Waktu tercepat iklan dihapus adalah kurang dari satu hari.\n",
    "4. Waktu terlama iklan ditayangkan adalah 271 hari."
   ]
  },
  {
   "cell_type": "markdown",
   "metadata": {},
   "source": [
    "## Tahap 4: Harga Rata-Rata Setiap Jenis Kendaraan <a id='mean_type'></a>"
   ]
  },
  {
   "cell_type": "markdown",
   "metadata": {},
   "source": [
    "Setelah mengetahui usia suatu iklan, selanjutnya mari mencari tahu jumlah iklan dan harga rata-rata setiap jenis kendaraan:"
   ]
  },
  {
   "cell_type": "code",
   "execution_count": 65,
   "metadata": {
    "scrolled": false
   },
   "outputs": [
    {
     "data": {
      "text/html": [
       "<div>\n",
       "<style scoped>\n",
       "    .dataframe tbody tr th:only-of-type {\n",
       "        vertical-align: middle;\n",
       "    }\n",
       "\n",
       "    .dataframe tbody tr th {\n",
       "        vertical-align: top;\n",
       "    }\n",
       "\n",
       "    .dataframe thead th {\n",
       "        text-align: right;\n",
       "    }\n",
       "</style>\n",
       "<table border=\"1\" class=\"dataframe\">\n",
       "  <thead>\n",
       "    <tr style=\"text-align: right;\">\n",
       "      <th></th>\n",
       "      <th>avg_price</th>\n",
       "      <th>car_count</th>\n",
       "    </tr>\n",
       "    <tr>\n",
       "      <th>type</th>\n",
       "      <th></th>\n",
       "      <th></th>\n",
       "    </tr>\n",
       "  </thead>\n",
       "  <tbody>\n",
       "    <tr>\n",
       "      <th>sedan</th>\n",
       "      <td>6982.47</td>\n",
       "      <td>11911</td>\n",
       "    </tr>\n",
       "    <tr>\n",
       "      <th>SUV</th>\n",
       "      <td>10480.45</td>\n",
       "      <td>11830</td>\n",
       "    </tr>\n",
       "    <tr>\n",
       "      <th>truck</th>\n",
       "      <td>15194.30</td>\n",
       "      <td>11012</td>\n",
       "    </tr>\n",
       "    <tr>\n",
       "      <th>pickup</th>\n",
       "      <td>15137.59</td>\n",
       "      <td>6220</td>\n",
       "    </tr>\n",
       "    <tr>\n",
       "      <th>coupe</th>\n",
       "      <td>13553.12</td>\n",
       "      <td>1998</td>\n",
       "    </tr>\n",
       "    <tr>\n",
       "      <th>wagon</th>\n",
       "      <td>9012.83</td>\n",
       "      <td>1497</td>\n",
       "    </tr>\n",
       "    <tr>\n",
       "      <th>mini-van</th>\n",
       "      <td>8057.88</td>\n",
       "      <td>1138</td>\n",
       "    </tr>\n",
       "    <tr>\n",
       "      <th>hatchback</th>\n",
       "      <td>6851.25</td>\n",
       "      <td>996</td>\n",
       "    </tr>\n",
       "    <tr>\n",
       "      <th>van</th>\n",
       "      <td>8887.90</td>\n",
       "      <td>577</td>\n",
       "    </tr>\n",
       "    <tr>\n",
       "      <th>convertible</th>\n",
       "      <td>13084.29</td>\n",
       "      <td>338</td>\n",
       "    </tr>\n",
       "    <tr>\n",
       "      <th>other</th>\n",
       "      <td>10542.14</td>\n",
       "      <td>233</td>\n",
       "    </tr>\n",
       "    <tr>\n",
       "      <th>offroad</th>\n",
       "      <td>14344.05</td>\n",
       "      <td>182</td>\n",
       "    </tr>\n",
       "    <tr>\n",
       "      <th>bus</th>\n",
       "      <td>18107.43</td>\n",
       "      <td>21</td>\n",
       "    </tr>\n",
       "  </tbody>\n",
       "</table>\n",
       "</div>"
      ],
      "text/plain": [
       "             avg_price  car_count\n",
       "type                             \n",
       "sedan          6982.47      11911\n",
       "SUV           10480.45      11830\n",
       "truck         15194.30      11012\n",
       "pickup        15137.59       6220\n",
       "coupe         13553.12       1998\n",
       "wagon          9012.83       1497\n",
       "mini-van       8057.88       1138\n",
       "hatchback      6851.25        996\n",
       "van            8887.90        577\n",
       "convertible   13084.29        338\n",
       "other         10542.14        233\n",
       "offroad       14344.05        182\n",
       "bus           18107.43         21"
      ]
     },
     "execution_count": 65,
     "metadata": {},
     "output_type": "execute_result"
    }
   ],
   "source": [
    "type_price_mean = data_filtered.pivot_table(index='type', values='price', aggfunc=['mean', 'count']).round(2)\n",
    "type_price_mean.columns = ['avg_price', 'car_count']\n",
    "type_price_mean = type_price_mean.sort_values(by='car_count', ascending=False)\n",
    "\n",
    "type_price_mean"
   ]
  },
  {
   "cell_type": "code",
   "execution_count": 66,
   "metadata": {
    "scrolled": false
   },
   "outputs": [
    {
     "data": {
      "image/png": "[encoded data removed]",
      "text/plain": [
       "<Figure size 720x360 with 1 Axes>"
      ]
     },
     "metadata": {
      "needs_background": "light"
     },
     "output_type": "display_data"
    }
   ],
   "source": [
    "type_price_mean.plot(kind='bar', grid=True, figsize=(10,5))\n",
    "plt.ylabel('Average Price per Type')\n",
    "plt.show()"
   ]
  },
  {
   "cell_type": "markdown",
   "metadata": {},
   "source": [
    "Kendaraan dengan tipe `'sedan'` memiliki rata-rata terendah kedua setelah `'hatchback'` memiliki jumlah iklan terbanyak, sedangkan kendaraan dengan tipe `'bus'` memiliki rata-rata yang paling tinggi namun jumlah iklannya hanya sedikit. Sepertinya rata-rata harga tidak mempengaruhi jumah iklan yang ditayangkan, hal ini terbukti dengan rata-rata harga `'sedan'` dan `'hatchback'` yang hampir sama namun jumlah iklannya sangat berbanding terbalik.\n",
    "\n",
    "Berdasarkan jumlah iklannya, `'sedan'` dan `'SUV'` menjadi tipe kendaraan yang paling populer."
   ]
  },
  {
   "cell_type": "markdown",
   "metadata": {},
   "source": [
    "## Tahap 5: Faktor Harga <a id='price'></a>"
   ]
  },
  {
   "cell_type": "markdown",
   "metadata": {},
   "source": [
    "Apakah faktor yang paling memengaruhi harga kendaraan?\n",
    "\n",
    "Untuk menjawabnya, kita akan mengambi data dari dua jenis kendaraan palin populer teratas yaitu `'sedan'` dan `'SUV'`. Kita akan mencari tahu apakah harganya bergantung pada usia, jarak tempuh, kondisi, tipe transmisi, dan warnanya."
   ]
  },
  {
   "cell_type": "markdown",
   "metadata": {},
   "source": [
    "### Kendaraan Tipe Sedan <a id='sedan'></a>"
   ]
  },
  {
   "cell_type": "markdown",
   "metadata": {},
   "source": [
    "Memeriksa faktor yang mempengaruhi harga kendaraan dengan tipe `'sedan'`"
   ]
  },
  {
   "cell_type": "code",
   "execution_count": 67,
   "metadata": {},
   "outputs": [],
   "source": [
    "# Memfilter data berdasarkan salah satu tipe kendaraan yang paling popoler yaitu `'sedan'`\n",
    "\n",
    "data_sedan = data_filtered[data_filtered['type'] == 'sedan'].reset_index(drop=True)"
   ]
  },
  {
   "cell_type": "code",
   "execution_count": 68,
   "metadata": {
    "scrolled": true
   },
   "outputs": [
    {
     "data": {
      "text/plain": [
       "price                1.000000\n",
       "model_year           0.619351\n",
       "cylinders           -0.040880\n",
       "odometer            -0.519473\n",
       "is_4wd               0.041413\n",
       "days_listed          0.002520\n",
       "year_posted          0.016207\n",
       "month_posted        -0.020160\n",
       "car_age             -0.615821\n",
       "odometer_per_year    0.312959\n",
       "condition_numeric    0.288429\n",
       "Name: price, dtype: float64"
      ]
     },
     "execution_count": 68,
     "metadata": {},
     "output_type": "execute_result"
    }
   ],
   "source": [
    "# Memeriksa korelasi yang mempengaruhi harga pada kendaraan dengan tipe `'sedan'`\n",
    "\n",
    "data_sedan.corr()['price']"
   ]
  },
  {
   "cell_type": "markdown",
   "metadata": {},
   "source": [
    "Berdasarkan data diatas dapat ditarik kesimpulan sebagai berikut:\n",
    "- Jarak tempuh `odometer` memiliki nilai korelasi -0.519473, artinya terdapat korelasi negatif yang tidak terlalu kuat dimana semakin tinggi jarak tempuh suatu kendaraan, maka harganya akan semakin rendah.\n",
    "- Usia kendaraan `car_age` memiliki korelasi sebesar -0.615821, artinya terdapat korelasi negatif yang cukup kuat dimana semakin tua suatu kendaraan maka semakin rendah harganya.\n",
    "- Kondisi Kendaraan `condition_numeric` memiliki korelasi 0.288429, artinya terdapat korelasi namun sangat lemah dimana semakin baik kondisinya maka akan semakin tinggi harganya."
   ]
  },
  {
   "cell_type": "markdown",
   "metadata": {},
   "source": [
    "#### Faktor <u>Harga</u> Terhadap <u>Jarak Tempuh</u>"
   ]
  },
  {
   "cell_type": "code",
   "execution_count": 69,
   "metadata": {
    "scrolled": true
   },
   "outputs": [
    {
     "data": {
      "image/png": "[encoded data removed]",
      "text/plain": [
       "<Figure size 432x288 with 1 Axes>"
      ]
     },
     "metadata": {
      "needs_background": "light"
     },
     "output_type": "display_data"
    }
   ],
   "source": [
    "sns.scatterplot(data=data_sedan, y='price', x='odometer');"
   ]
  },
  {
   "cell_type": "markdown",
   "metadata": {},
   "source": [
    "Dapat dilihat semakin sedikit jarak tempuh suatu kendaraan, maka semakin tinggi harganya."
   ]
  },
  {
   "cell_type": "markdown",
   "metadata": {},
   "source": [
    "#### Faktor  <u>Harga</u> Terhadap <u>Usia Kendaraan</u>"
   ]
  },
  {
   "cell_type": "code",
   "execution_count": 70,
   "metadata": {
    "scrolled": false
   },
   "outputs": [
    {
     "data": {
      "image/png": "[encoded data removed]",
      "text/plain": [
       "<Figure size 432x288 with 1 Axes>"
      ]
     },
     "metadata": {
      "needs_background": "light"
     },
     "output_type": "display_data"
    }
   ],
   "source": [
    "sns.scatterplot(data=data_sedan, y='price', x='car_age');"
   ]
  },
  {
   "cell_type": "markdown",
   "metadata": {},
   "source": [
    "Hal ini berlaku juga kepada usia kendaraan, yaitu dimana semakin muda suatu kendaraan maka semakin tinggi pula harganya."
   ]
  },
  {
   "cell_type": "markdown",
   "metadata": {},
   "source": [
    "#### Faktor <u>Harga</u> Terhadap <u>Kondisi Kendaraan</u>"
   ]
  },
  {
   "cell_type": "code",
   "execution_count": 71,
   "metadata": {
    "scrolled": false
   },
   "outputs": [
    {
     "data": {
      "image/png": "[encoded data removed]",
      "text/plain": [
       "<Figure size 432x288 with 1 Axes>"
      ]
     },
     "metadata": {
      "needs_background": "light"
     },
     "output_type": "display_data"
    }
   ],
   "source": [
    "sns.scatterplot(data=data_sedan, y='price', x='condition_numeric', alpha=0.2);"
   ]
  },
  {
   "cell_type": "markdown",
   "metadata": {},
   "source": [
    "Sepertinya harga dan kondisi kendaraan memiliki korelasi yang sangat lemah dimana kendaraan dengan skala kondisi 1 atau `'fair'` dihargai lebih rendah dari kondisi lainnya. Dan pada skala kondisi 2-4 walaupun semakin tinggi nilai kondisi suatu kendaraan maka cenderung makin tinggi pula harganya, namun hal tersebut tidaklah bersifat pasti karena dapat dilihat bahwa beberapa kendaraan dengan nilai kondisi 3 memiliki harga yang lebih tinggi daripada kendaraan dengan nilai kondisi 4."
   ]
  },
  {
   "cell_type": "markdown",
   "metadata": {},
   "source": [
    "#### Faktor <u>Harga</u> Terhadap <u>Tipe Transmisi</u>"
   ]
  },
  {
   "cell_type": "markdown",
   "metadata": {},
   "source": [
    "Karena `transmission` merupakan variabel kategorik, maka kita perlu menganalisisnya menggunakan *boxplot*. Namun untuk menganalisanya kita harus memastikan bahwa datanya memiliki setidaknya 50 iklan. Jika tidak, parameternya tidak akan valid untuk digunakan saat analisis."
   ]
  },
  {
   "cell_type": "code",
   "execution_count": 72,
   "metadata": {
    "scrolled": true
   },
   "outputs": [
    {
     "data": {
      "text/plain": [
       "automatic    11209\n",
       "manual         571\n",
       "other          131\n",
       "Name: transmission, dtype: int64"
      ]
     },
     "execution_count": 72,
     "metadata": {},
     "output_type": "execute_result"
    }
   ],
   "source": [
    "# Memastikan apakah `transmission` memiliki jumlah iklan kurang dari 50\n",
    "\n",
    "data_sedan['transmission'].value_counts()"
   ]
  },
  {
   "cell_type": "markdown",
   "metadata": {},
   "source": [
    "Semua data telah memenuhi syarat minimum dimana datanya lebih dari 50."
   ]
  },
  {
   "cell_type": "code",
   "execution_count": 73,
   "metadata": {
    "scrolled": false
   },
   "outputs": [
    {
     "data": {
      "image/png": "[encoded data removed]",
      "text/plain": [
       "<Figure size 720x360 with 1 Axes>"
      ]
     },
     "metadata": {
      "needs_background": "light"
     },
     "output_type": "display_data"
    }
   ],
   "source": [
    "plt.figure(figsize=(10,5))\n",
    "sns.boxplot(data=data_sedan, x='price', y='transmission');\n",
    "plt.title('korelasi antara `price` dan `transmission`');"
   ]
  },
  {
   "cell_type": "markdown",
   "metadata": {},
   "source": [
    "Sepertinya kendaraan dengan tipe transmisi `'automatic'` dihargai lebih tinggi."
   ]
  },
  {
   "cell_type": "markdown",
   "metadata": {},
   "source": [
    "#### Faktor <u>Harga</u> Terhadap <u>Warna Kendaraan</u>"
   ]
  },
  {
   "cell_type": "markdown",
   "metadata": {},
   "source": [
    "Kolom `paint_color` juga merupakan variabel kategorik, maka kita juga perlu menganalisisnya menggunakan *boxplot*. Dan sama seperti sebelumnya, untuk menganalisanya kita harus memastikan bahwa datanya memiliki setidaknya 50 iklan. Jika tidak, parameternya tidak akan valid untuk digunakan saat analisis."
   ]
  },
  {
   "cell_type": "markdown",
   "metadata": {},
   "source": [
    "**Memeriksa matriks <u>harga</u> terhadap <u>warna kendaraan</u>**"
   ]
  },
  {
   "cell_type": "code",
   "execution_count": 74,
   "metadata": {
    "scrolled": false
   },
   "outputs": [
    {
     "data": {
      "text/plain": [
       "unknown    2142\n",
       "silver     2018\n",
       "black      1747\n",
       "grey       1600\n",
       "white      1471\n",
       "blue       1212\n",
       "red         926\n",
       "custom      291\n",
       "brown       250\n",
       "green       201\n",
       "purple       23\n",
       "yellow       21\n",
       "orange        9\n",
       "Name: paint_color, dtype: int64"
      ]
     },
     "execution_count": 74,
     "metadata": {},
     "output_type": "execute_result"
    }
   ],
   "source": [
    "# Memastikan apakah `paint_color` memiliki jumlah iklan kurang dari 50\n",
    "\n",
    "data_sedan['paint_color'].value_counts()"
   ]
  },
  {
   "cell_type": "markdown",
   "metadata": {},
   "source": [
    "Ternyata jumlah kendaraan dengan warna `'purple'`, `'yellow'`, dan `'orange'` kurang dari 50, sehingga warna tersebut perlu dihilangkan."
   ]
  },
  {
   "cell_type": "code",
   "execution_count": 75,
   "metadata": {
    "scrolled": true
   },
   "outputs": [],
   "source": [
    "# Membuat list yang berisikan 'paint_color' > 50\n",
    "\n",
    "sedan_color_list = list(data_sedan['paint_color'].value_counts()[:-3].index)"
   ]
  },
  {
   "cell_type": "code",
   "execution_count": 76,
   "metadata": {},
   "outputs": [],
   "source": [
    "# Memfilter kembali dataframe dengan list yang telah dibuat sebelumnya\n",
    "\n",
    "data_sedan_color = data_sedan[data_sedan['paint_color'].isin(sedan_color_list)]"
   ]
  },
  {
   "cell_type": "code",
   "execution_count": 77,
   "metadata": {
    "scrolled": false
   },
   "outputs": [
    {
     "data": {
      "image/png": "[encoded data removed]",
      "text/plain": [
       "<Figure size 864x576 with 1 Axes>"
      ]
     },
     "metadata": {
      "needs_background": "light"
     },
     "output_type": "display_data"
    }
   ],
   "source": [
    "# Membuat boxplot\n",
    "\n",
    "plt.figure(figsize=(12,8))\n",
    "sns.boxplot(data=data_sedan_color, x='price', y='paint_color');\n",
    "plt.title('korelasi antara `price` dan `paint_color`');"
   ]
  },
  {
   "cell_type": "markdown",
   "metadata": {},
   "source": [
    "Warna `'green'` menjadi kendaraan tipe `sedan` dengan harga paling rendah, dan `'black'` menjadi kendaraan tipe `sedan` dengan harga paling tinggi."
   ]
  },
  {
   "cell_type": "markdown",
   "metadata": {},
   "source": [
    "### Kendaraan Tipe SUV <a id='suv'></a>"
   ]
  },
  {
   "cell_type": "markdown",
   "metadata": {},
   "source": [
    "Memeriksa faktor yang mempengaruhi harga kendaraan dengan tipe `'SUV'`"
   ]
  },
  {
   "cell_type": "code",
   "execution_count": 78,
   "metadata": {},
   "outputs": [],
   "source": [
    "# Memfilter data berdasarkan salah satu tipe kendaraan yang paling popoler yaitu `'SUV'`\n",
    "\n",
    "data_suv = data_filtered[data_filtered['type'] == 'SUV'].reset_index(drop=True)"
   ]
  },
  {
   "cell_type": "code",
   "execution_count": 79,
   "metadata": {},
   "outputs": [
    {
     "data": {
      "text/plain": [
       "price                1.000000\n",
       "model_year           0.575027\n",
       "cylinders           -0.006650\n",
       "odometer            -0.484526\n",
       "is_4wd               0.114889\n",
       "days_listed         -0.020565\n",
       "year_posted          0.000506\n",
       "month_posted        -0.007101\n",
       "car_age             -0.573008\n",
       "odometer_per_year    0.282387\n",
       "condition_numeric    0.256909\n",
       "Name: price, dtype: float64"
      ]
     },
     "execution_count": 79,
     "metadata": {},
     "output_type": "execute_result"
    }
   ],
   "source": [
    "# Memeriksa korelasi yang mempengaruhi harga pada kendaraan dengan tipe `'SUV'`\n",
    "\n",
    "data_suv.corr()['price']"
   ]
  },
  {
   "cell_type": "markdown",
   "metadata": {},
   "source": [
    "Berdasarkan data diatas dapat ditarik kesimpulan sebagai berikut:\n",
    "- Jarak tempuh `odometer` memiliki nilai korelasi -0.484526, artinya terdapat korelasi negatif yang tidak terlalu kuat dimana semakin tinggi jarak tempuh suatu kendaraan, maka harganya akan semakin rendah.\n",
    "- Usia kendaraan `car_age` memiliki korelasi sebesar -0.573008, artinya terdapat korelasi negatif yang tidak terlalu kuat dimana semakin tua suatu kendaraan maka semakin rendah harganya.\n",
    "- Kondisi Kendaraan `condition_numeric` memiliki korelasi 0.256909, artinya terdapat korelasi namun sangat lemah dimana semakin baik kondisinya maka akan semakin tinggi harganya."
   ]
  },
  {
   "cell_type": "markdown",
   "metadata": {},
   "source": [
    "#### Faktor <u>Harga</u> Terhadap <u>Jarak Tempuh</u>"
   ]
  },
  {
   "cell_type": "code",
   "execution_count": 80,
   "metadata": {
    "scrolled": false
   },
   "outputs": [
    {
     "data": {
      "image/png": "[encoded data removed]",
      "text/plain": [
       "<Figure size 432x288 with 1 Axes>"
      ]
     },
     "metadata": {
      "needs_background": "light"
     },
     "output_type": "display_data"
    }
   ],
   "source": [
    "sns.scatterplot(data=data_suv, y='price', x='odometer');"
   ]
  },
  {
   "cell_type": "markdown",
   "metadata": {},
   "source": [
    "Dapat dilihat semakin sedikit jarak tempuh suatu kendaraan jenis `SUV`, maka semakin tinggi harganya."
   ]
  },
  {
   "cell_type": "markdown",
   "metadata": {},
   "source": [
    "#### Faktor <u>Harga</u> Terhadap <u>Usia Kendaraan</u>"
   ]
  },
  {
   "cell_type": "code",
   "execution_count": 81,
   "metadata": {
    "scrolled": false
   },
   "outputs": [
    {
     "data": {
      "image/png": "[encoded data removed]",
      "text/plain": [
       "<Figure size 432x288 with 1 Axes>"
      ]
     },
     "metadata": {
      "needs_background": "light"
     },
     "output_type": "display_data"
    }
   ],
   "source": [
    "sns.scatterplot(data=data_suv, y='price', x='car_age', alpha=0.2);"
   ]
  },
  {
   "cell_type": "markdown",
   "metadata": {},
   "source": [
    "Hal ini berlaku juga kepada usia kendaraan, yaitu dimana semakin muda suatu kendaraan maka semakin tinggi pula harganya."
   ]
  },
  {
   "cell_type": "markdown",
   "metadata": {},
   "source": [
    "#### Faktor <u>Harga</u> Terhadap <u>Kondisi Kendaraan</u>"
   ]
  },
  {
   "cell_type": "code",
   "execution_count": 82,
   "metadata": {
    "scrolled": true
   },
   "outputs": [
    {
     "data": {
      "image/png": "[encoded data removed]",
      "text/plain": [
       "<Figure size 432x288 with 1 Axes>"
      ]
     },
     "metadata": {
      "needs_background": "light"
     },
     "output_type": "display_data"
    }
   ],
   "source": [
    "sns.scatterplot(data=data_suv, y='price', x='condition_numeric', alpha=0.1);"
   ]
  },
  {
   "cell_type": "markdown",
   "metadata": {},
   "source": [
    "Harga dan kondisi kendaraan memiliki korelasi yang sangat lemah dimana kendaraan dengan skala kondisi 1 atau `'fair'` dihargai lebih rendah dari kondisi lainnya. Dan pada skala kondisi 2-4 memiliki harga yang cenderung sama tingginya."
   ]
  },
  {
   "cell_type": "markdown",
   "metadata": {},
   "source": [
    "#### Faktor <u>Harga</u> Terhadap <u>Jenis Transmisi</u>"
   ]
  },
  {
   "cell_type": "markdown",
   "metadata": {},
   "source": [
    "Karena `transmission` merupakan variabel kategorik, maka kita perlu menganalisisnya menggunakan *boxplot*. Namun untuk menganalisanya kita harus memastikan bahwa datanya memiliki setidaknya 50 iklan. Jika tidak, parameternya tidak akan valid untuk digunakan saat analisis."
   ]
  },
  {
   "cell_type": "code",
   "execution_count": 83,
   "metadata": {
    "scrolled": true
   },
   "outputs": [
    {
     "data": {
      "text/plain": [
       "automatic    11217\n",
       "manual         455\n",
       "other          158\n",
       "Name: transmission, dtype: int64"
      ]
     },
     "execution_count": 83,
     "metadata": {},
     "output_type": "execute_result"
    }
   ],
   "source": [
    "data_suv['transmission'].value_counts()"
   ]
  },
  {
   "cell_type": "markdown",
   "metadata": {},
   "source": [
    "Semua data telah memenuhi syarat minimum dimana datanya lebih dari 50."
   ]
  },
  {
   "cell_type": "code",
   "execution_count": 84,
   "metadata": {
    "scrolled": false
   },
   "outputs": [
    {
     "data": {
      "image/png": "[encoded data removed]",
      "text/plain": [
       "<Figure size 720x360 with 1 Axes>"
      ]
     },
     "metadata": {
      "needs_background": "light"
     },
     "output_type": "display_data"
    }
   ],
   "source": [
    "plt.figure(figsize=(10,5))\n",
    "sns.boxplot(data=data_suv, x='price', y='transmission');\n",
    "plt.title('korelasi antara `price` dan `transmission`');"
   ]
  },
  {
   "cell_type": "markdown",
   "metadata": {},
   "source": [
    "Berbeda dengan kendaraan dengan tipe `'sedan'`, `'SUV'` dengan jenis transmisi `'manual'` memiliki median harga paling tinggi. Meski demikian, kendaraan dengan jenis transmisi `'automatic'` memiliki outlier yang jauh lebih tinggi."
   ]
  },
  {
   "cell_type": "markdown",
   "metadata": {},
   "source": [
    "#### Faktor <u>Harga</u> Terhadap <u>Warna Kendaraan</u>"
   ]
  },
  {
   "cell_type": "markdown",
   "metadata": {},
   "source": [
    "Kolom `paint_color` juga merupakan variabel kategorik, maka kita juga perlu menganalisisnya menggunakan *boxplot*. Dan sama seperti sebelumnya, untuk menganalisanya kita harus memastikan bahwa datanya memiliki setidaknya 50 iklan. Jika tidak, parameternya tidak akan valid untuk digunakan saat analisis."
   ]
  },
  {
   "cell_type": "code",
   "execution_count": 85,
   "metadata": {
    "scrolled": false
   },
   "outputs": [
    {
     "data": {
      "text/plain": [
       "unknown    2131\n",
       "black      2080\n",
       "white      1862\n",
       "silver     1527\n",
       "grey       1143\n",
       "blue       1007\n",
       "red         865\n",
       "green       406\n",
       "brown       350\n",
       "custom      295\n",
       "orange       81\n",
       "yellow       45\n",
       "purple       38\n",
       "Name: paint_color, dtype: int64"
      ]
     },
     "execution_count": 85,
     "metadata": {},
     "output_type": "execute_result"
    }
   ],
   "source": [
    "data_suv['paint_color'].value_counts()"
   ]
  },
  {
   "cell_type": "markdown",
   "metadata": {},
   "source": [
    "Ternyata jumlah kendaraan dengan warna `'purple'` dan `'yellow'` memiliki jumlah iklan kurang dari 50, sehingga warna tersebut perlu dihilangkan."
   ]
  },
  {
   "cell_type": "code",
   "execution_count": 86,
   "metadata": {},
   "outputs": [],
   "source": [
    "# Membuat list yang berisikan 'paint_color' > 50\n",
    "\n",
    "suv_color_list = list(data_suv['paint_color'].value_counts()[:-2].index)"
   ]
  },
  {
   "cell_type": "code",
   "execution_count": 87,
   "metadata": {},
   "outputs": [],
   "source": [
    "# Memfilter kembali dataframe dengan list yang telah dibuat sebelumnya\n",
    "\n",
    "data_suv_color = data_suv[data_suv['paint_color'].isin(suv_color_list)]"
   ]
  },
  {
   "cell_type": "code",
   "execution_count": 88,
   "metadata": {
    "scrolled": false
   },
   "outputs": [
    {
     "data": {
      "image/png": "[encoded data removed]",
      "text/plain": [
       "<Figure size 864x576 with 1 Axes>"
      ]
     },
     "metadata": {
      "needs_background": "light"
     },
     "output_type": "display_data"
    }
   ],
   "source": [
    "# Membuat boxplot\n",
    "\n",
    "plt.figure(figsize=(12,8))\n",
    "sns.boxplot(data=data_suv_color, x='price', y='paint_color');\n",
    "plt.title('korelasi antara `price` dan `paint_color`');"
   ]
  },
  {
   "cell_type": "markdown",
   "metadata": {},
   "source": [
    "Warna `'orange'` memiliki median harga paling tinggi diantara warna lainnya, namun warna `'black'` memiliki batas atas yang paling tinggi. Selain itu beberapa warna seperti `'white'`, `'silver'`, dan `'unknown'` memiliki outlier yang sama tingginya dengan `'black'`."
   ]
  },
  {
   "cell_type": "markdown",
   "metadata": {},
   "source": [
    "## Kesimpulan Umum <a id='end'></a>"
   ]
  },
  {
   "attachments": {},
   "cell_type": "markdown",
   "metadata": {},
   "source": [
    "Dalam Pra-pemrosesan data telah ditemukan beberapa masalah seperti terdapat nilai yang hilang, kolom dengan tipe data yang tidak sesuai, serta terdapat nilai yang mencurigakan yang mungkin akan mempengaruhi outlier. Meski tidak ditemukan adanya data yang terduplikasi, namun tampaknya nilai yang hilang menjadi masalah yang cukup serius dimana kolom `is_4wd` memiliki presentase nilai yang hilang paling parah yaitu hingga 50.4%, disusul kolom `paint_color` dengan presentase nilai yang hilang sebanyak 18%, kolom `odometer` sebesar 15.3%, kolom `cylinders` 10.2%, dan diurutan terakhir adalah kolom `model_year` dengan presentase 7%.\n",
    "\n",
    "Setelah menentukan nilai yang tepat, semua nilai yang hilangpun telah berhasil diatasi. Kemudian tipe data yang tidak sesuai juga telah diperbaiki. Selanjutnya untuk mempermudah proses analisis, diputuskan untuk membuat beberapa kolom tambahan seperti `year_posted`, `month_posted`, dan `day_posted` yang berisikan nilai waktu dan tanggal pada saat iklan ditayangkan, menambahkan kolom `car_age` yang berisikan informasi usia kendaraan, dan `odometer_per_year` yang berisikan jarak tempuh rata-rata kendaraan per tahun. Selain itu telah dibuatkan juga skala numerik yang mewakili kolom `condition` dan disimpan dalam kolom `condition_numeric`.\n",
    "\n",
    "Data yang telah ditransformasi ternyata memiliki outlier yang cukup signifikan, karena itu perlu dibuat dataset baru yang telah difilter tanpa outlier. Maka ditentukanlah batas atas dan batas bawah setiap parameter.\n",
    "\n",
    "Dengan menggunakan *dataframe* yang baru, kita mempelajari tiga hal berikut:\n",
    "1. Usia suatu iklan ditayangkan.\n",
    "2. Harga rata-rata setiap jenis kendaraan.\n",
    "3. Faktor yang mempengaruhi harga suatu kendaraan.\n",
    "\n",
    "Setelah menganalisis datanya, dapat disimpulkan bahwa:\n",
    "1. Usia suatu iklan ditayangkan:\n",
    "   - Umumnya iklan ditayangkan rata-rata dalam waktu 39 hari.\n",
    "   - Median usia sebuah iklan adalah 33 hari.\n",
    "   - Waktu tercepat iklan dihapus adalah kurang dari satu hari.\n",
    "   - Waktu terlama iklan ditayangkan adalah 271 hari.\n",
    "   \n",
    "   \n",
    "2. Dua jenis kendaraan teratas yang paling populer adalah `'sedan'` dan `'SUV'`. Dengan harga rata-rata secara berturut-turut `6982.47` dan `10480.45`.\n",
    "\n",
    "\n",
    "3. Berdasarkan dua jenis kendaraan teratas yang paling populer:\n",
    "\n",
    "   a. Kendaraan dengan jenis `'sedan'`:\n",
    "      - Jarak tempuh `odometer` memiliki nilai korelasi -0.519473, artinya terdapat korelasi negatif yang tidak terlalu kuat dimana semakin tinggi jarak tempuh suatu kendaraan, maka harganya akan semakin rendah.\n",
    "      - Usia kendaraan `car_age` memiliki korelasi sebesar -0.615821, artinya terdapat korelasi negatif yang cukup kuat dimana semakin tua suatu kendaraan maka semakin rendah harganya.\n",
    "      - Kondisi Kendaraan `condition_numeric` memiliki korelasi 0.288429, artinya terdapat korelasi namun sangat lemah. Dimana kendaraan dengan skala kondisi 1 atau `'fair'` dihargai lebih rendah dari kondisi lainnya. Dan pada skala kondisi 2-4 walaupun semakin tinggi nilai kondisi suatu kendaraan maka cenderung makin tinggi pula harganya, namun hal tersebut tidaklah bersifat pasti karena dapat dilihat bahwa beberapa kendaraan dengan nilai kondisi 3 memiliki harga yang lebih tinggi daripada kendaraan dengan nilai kondisi 4.\n",
    "      - Kendaraan jenis `'sedan'` dengan tipe transmisi `'automatic'` dihargai lebih tinggi.\n",
    "      - Warna `'green'` menjadi kendaraan tipe `sedan` dengan harga paling rendah, dan `'black'` menjadi kendaraan tipe `sedan` dengan harga paling tinggi.   \n",
    "      \n",
    "   b. Kendaraan dengan jenis `'sedan'`:\n",
    "      - Jarak tempuh `odometer` memiliki nilai korelasi -0.484526, artinya terdapat korelasi negatif yang tidak terlalu kuat dimana semakin tinggi jarak tempuh suatu kendaraan, maka harganya akan semakin rendah.\n",
    "      - Usia kendaraan `car_age` memiliki korelasi sebesar -0.573008, artinya terdapat korelasi negatif yang tidak terlalu kuat dimana semakin tua suatu kendaraan maka semakin rendah harganya.\n",
    "      - Kondisi Kendaraan `condition_numeric` memiliki korelasi 0.256909, artinya terdapat korelasi namun sangat lemah. Dimana kendaraan dengan skala kondisi 1 atau `'fair'` dihargai lebih rendah dari kondisi lainnya. Dan pada skala kondisi 2-4 memiliki harga yang cenderung sama tingginya.\n",
    "      - Berbeda dengan kendaraan dengan tipe `'sedan'`, `'SUV'` dengan jenis transmisi `'manual'` memiliki median harga paling tinggi. Meski demikian, kendaraan dengan jenis transmisi `'automatic'` memiliki outlier yang jauh lebih tinggi.\n",
    "      - Warna `'orange'` memiliki median harga paling tinggi diantara warna lainnya, namun warna `'black'` memiliki batas atas yang paling tinggi. Selain itu beberapa warna seperti `'white'`, `'silver'`, dan `'unknown'` memiliki outlier yang sama tingginya dengan `'black'`.\n",
    "      \n",
    "   c. Kesimpulan dari keduanya:\n",
    "      - Jarak tempuh `odometer` dan usia kendaraan `car_age` memiliki korelasi yang cukup kuat dimana semakin tinggi jarak tempuh ataupun usia suatu kendaraan, maka harganya akan semakin rendah.\n",
    "      - Kondisi Kendaraan `condition_numeric`memiliki korelasi yang lemah. Dimana kendaraan dengan skala kondisi 1 atau `'fair'` dihargai lebih rendah dari kondisi lainnya. Namun pada skala kondisi 2-4 memiliki harga yang cenderung tidak pasti.\n",
    "      - Warna `'black'` menjadi kendaraan dengan harga paling tinggi di kedua jenis kendaraan `'sedan'` dan `'SUV'`. Namun belum bisa dipastikan apakah warna kendaraan memiliki keterkaitan dengan harga kendaraan, karena hanya 2 jenis kendaraan teratas yang sudah dianalisa."
   ]
  }
 ],
 "metadata": {
  "ExecuteTimeLog": [
   {
    "duration": 828,
    "start_time": "2021-11-16T09:21:11.304Z"
   },
   {
    "duration": 893,
    "start_time": "2021-11-16T09:21:17.728Z"
   },
   {
    "duration": 1150,
    "start_time": "2021-11-16T09:21:29.568Z"
   },
   {
    "duration": 3,
    "start_time": "2021-11-16T09:24:14.495Z"
   },
   {
    "duration": 120,
    "start_time": "2021-11-16T09:24:46.630Z"
   },
   {
    "duration": 3,
    "start_time": "2021-11-16T09:28:27.882Z"
   },
   {
    "duration": 4,
    "start_time": "2021-11-16T09:29:54.281Z"
   },
   {
    "duration": 3,
    "start_time": "2021-11-16T09:30:45.936Z"
   },
   {
    "duration": 4,
    "start_time": "2021-11-16T09:31:06.300Z"
   },
   {
    "duration": 113,
    "start_time": "2021-11-16T09:31:37.208Z"
   },
   {
    "duration": 143,
    "start_time": "2021-11-16T09:31:48.656Z"
   },
   {
    "duration": 98,
    "start_time": "2021-11-16T09:31:55.678Z"
   },
   {
    "duration": 3,
    "start_time": "2021-11-16T09:32:08.535Z"
   },
   {
    "duration": 111,
    "start_time": "2021-11-16T09:32:10.120Z"
   },
   {
    "duration": 3,
    "start_time": "2021-11-16T09:32:15.732Z"
   },
   {
    "duration": 4,
    "start_time": "2021-11-16T09:32:29.423Z"
   },
   {
    "duration": 3,
    "start_time": "2021-11-16T10:03:03.074Z"
   },
   {
    "duration": 3,
    "start_time": "2021-11-16T10:10:01.288Z"
   },
   {
    "duration": 3,
    "start_time": "2021-11-16T10:10:46.923Z"
   },
   {
    "duration": 121,
    "start_time": "2021-11-16T10:37:46.494Z"
   },
   {
    "duration": 125,
    "start_time": "2021-11-16T10:38:20.632Z"
   },
   {
    "duration": 112,
    "start_time": "2021-11-16T10:46:53.001Z"
   },
   {
    "duration": 110,
    "start_time": "2021-11-16T10:48:25.775Z"
   },
   {
    "duration": 3,
    "start_time": "2021-11-16T10:50:18.720Z"
   },
   {
    "duration": 4,
    "start_time": "2021-11-16T10:50:37.649Z"
   },
   {
    "duration": 2,
    "start_time": "2021-11-16T10:50:51.884Z"
   },
   {
    "duration": 3,
    "start_time": "2021-11-16T10:51:56.237Z"
   },
   {
    "duration": 101,
    "start_time": "2021-11-16T10:53:13.791Z"
   },
   {
    "duration": 3,
    "start_time": "2021-11-16T10:55:59.186Z"
   },
   {
    "duration": 3,
    "start_time": "2021-11-16T10:56:10.751Z"
   },
   {
    "duration": 3,
    "start_time": "2021-11-16T10:56:49.038Z"
   },
   {
    "duration": 3,
    "start_time": "2021-11-16T10:56:49.174Z"
   },
   {
    "duration": 4,
    "start_time": "2021-11-16T10:56:49.414Z"
   },
   {
    "duration": 3,
    "start_time": "2021-11-16T10:56:49.680Z"
   },
   {
    "duration": 3,
    "start_time": "2021-11-16T10:56:50.370Z"
   },
   {
    "duration": 114,
    "start_time": "2021-11-16T10:59:34.518Z"
   },
   {
    "duration": 3,
    "start_time": "2021-11-16T11:01:41.201Z"
   },
   {
    "duration": 116,
    "start_time": "2021-11-16T11:01:48.754Z"
   },
   {
    "duration": 3,
    "start_time": "2021-11-16T11:02:16.685Z"
   },
   {
    "duration": 3,
    "start_time": "2021-11-16T11:02:19.479Z"
   },
   {
    "duration": 3,
    "start_time": "2021-11-16T11:02:47.067Z"
   },
   {
    "duration": 3,
    "start_time": "2021-11-16T11:02:49.353Z"
   },
   {
    "duration": 3,
    "start_time": "2021-11-16T11:03:07.835Z"
   },
   {
    "duration": 3,
    "start_time": "2021-11-16T11:03:07.953Z"
   },
   {
    "duration": 112,
    "start_time": "2021-11-16T11:07:52.072Z"
   },
   {
    "duration": 187,
    "start_time": "2021-11-16T11:09:23.468Z"
   },
   {
    "duration": 4,
    "start_time": "2021-11-16T11:10:01.455Z"
   },
   {
    "duration": 3,
    "start_time": "2021-11-16T11:10:05.069Z"
   },
   {
    "duration": 4,
    "start_time": "2021-11-16T11:10:13.376Z"
   },
   {
    "duration": 3,
    "start_time": "2021-11-16T11:10:14.434Z"
   },
   {
    "duration": 3,
    "start_time": "2021-11-16T11:10:22.853Z"
   },
   {
    "duration": 4,
    "start_time": "2021-11-16T11:27:29.279Z"
   },
   {
    "duration": 4,
    "start_time": "2021-11-16T11:29:08.919Z"
   },
   {
    "duration": 118,
    "start_time": "2021-11-16T11:29:46.703Z"
   },
   {
    "duration": 437,
    "start_time": "2021-11-16T11:36:02.181Z"
   },
   {
    "duration": 157,
    "start_time": "2021-11-16T11:36:14.388Z"
   },
   {
    "duration": 207,
    "start_time": "2021-11-16T11:47:15.898Z"
   },
   {
    "duration": 3,
    "start_time": "2021-11-16T11:53:52.092Z"
   },
   {
    "duration": 3,
    "start_time": "2021-11-16T11:53:52.236Z"
   },
   {
    "duration": 3,
    "start_time": "2021-11-16T11:59:12.005Z"
   },
   {
    "duration": 112,
    "start_time": "2021-11-16T12:00:33.446Z"
   },
   {
    "duration": 3,
    "start_time": "2021-11-16T12:02:14.453Z"
   },
   {
    "duration": 3,
    "start_time": "2021-11-16T12:02:39.512Z"
   },
   {
    "duration": 106,
    "start_time": "2021-11-16T12:03:03.460Z"
   }
  ],
  "kernelspec": {
   "display_name": "Python 3",
   "language": "python",
   "name": "python3"
  },
  "language_info": {
   "codemirror_mode": {
    "name": "ipython",
    "version": 3
   },
   "file_extension": ".py",
   "mimetype": "text/x-python",
   "name": "python",
   "nbconvert_exporter": "python",
   "pygments_lexer": "ipython3",
   "version": "3.10.10"
  },
  "toc": {
   "base_numbering": 1,
   "nav_menu": {},
   "number_sections": true,
   "sideBar": true,
   "skip_h1_title": true,
   "title_cell": "Table of Contents",
   "title_sidebar": "Contents",
   "toc_cell": false,
   "toc_position": {
    "height": "calc(100% - 180px)",
    "left": "10px",
    "top": "150px",
    "width": "334.217px"
   },
   "toc_section_display": true,
   "toc_window_display": true
  },
  "vscode": {
   "interpreter": {
    "hash": "7b1f2b33e866b0bf2409397e5f58ba9cdf170d3b7f64c8f359c79998e2f88ad4"
   }
  }
 },
 "nbformat": 4,
 "nbformat_minor": 2
}
